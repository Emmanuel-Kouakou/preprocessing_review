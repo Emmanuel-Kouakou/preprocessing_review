{
 "cells": [
  {
   "cell_type": "markdown",
   "metadata": {},
   "source": [
    "## PREPROCESSING + MODELISATION"
   ]
  },
  {
   "cell_type": "code",
   "execution_count": 1,
   "metadata": {},
   "outputs": [],
   "source": [
    "import numpy as np\n",
    "import pandas as pd\n",
    "import matplotlib.pyplot as plt\n",
    "import seaborn as sns\n",
    "from sklearn.preprocessing import OneHotEncoder, RobustScaler\n",
    "from sklearn.model_selection import train_test_split, learning_curve, validation_curve, GridSearchCV\n",
    "from sklearn.metrics import confusion_matrix, classification_report\n",
    "\n",
    "from sklearn.neighbors import KNeighborsClassifier\n",
    "from sklearn.svm import SVC\n",
    "from sklearn.linear_model import LogisticRegression\n",
    "from sklearn.ensemble import RandomForestClassifier\n",
    "\n",
    "from sklearn.feature_selection import RFECV\n",
    "\n",
    "import warnings\n",
    "warnings.filterwarnings('ignore')"
   ]
  },
  {
   "cell_type": "code",
   "execution_count": 2,
   "metadata": {},
   "outputs": [],
   "source": [
    "data = pd.read_excel(\"maladie_cardiovasculaire.xlsx\")"
   ]
  },
  {
   "cell_type": "code",
   "execution_count": 3,
   "metadata": {},
   "outputs": [
    {
     "data": {
      "text/html": [
       "<div>\n",
       "<style scoped>\n",
       "    .dataframe tbody tr th:only-of-type {\n",
       "        vertical-align: middle;\n",
       "    }\n",
       "\n",
       "    .dataframe tbody tr th {\n",
       "        vertical-align: top;\n",
       "    }\n",
       "\n",
       "    .dataframe thead th {\n",
       "        text-align: right;\n",
       "    }\n",
       "</style>\n",
       "<table border=\"1\" class=\"dataframe\">\n",
       "  <thead>\n",
       "    <tr style=\"text-align: right;\">\n",
       "      <th></th>\n",
       "      <th>AGE</th>\n",
       "      <th>SEXE</th>\n",
       "      <th>TDT</th>\n",
       "      <th>PAR</th>\n",
       "      <th>CHOLESTEROL</th>\n",
       "      <th>GAJ</th>\n",
       "      <th>ECG</th>\n",
       "      <th>FCMAX</th>\n",
       "      <th>ANGINE</th>\n",
       "      <th>DEPRESSION</th>\n",
       "      <th>PENTE</th>\n",
       "      <th>CŒUR</th>\n",
       "    </tr>\n",
       "  </thead>\n",
       "  <tbody>\n",
       "    <tr>\n",
       "      <th>0</th>\n",
       "      <td>40</td>\n",
       "      <td>homme</td>\n",
       "      <td>AA</td>\n",
       "      <td>140</td>\n",
       "      <td>289</td>\n",
       "      <td>0</td>\n",
       "      <td>Normal</td>\n",
       "      <td>172</td>\n",
       "      <td>Non</td>\n",
       "      <td>0.0</td>\n",
       "      <td>Ascendant</td>\n",
       "      <td>0</td>\n",
       "    </tr>\n",
       "    <tr>\n",
       "      <th>1</th>\n",
       "      <td>49</td>\n",
       "      <td>femme</td>\n",
       "      <td>DNA</td>\n",
       "      <td>160</td>\n",
       "      <td>180</td>\n",
       "      <td>0</td>\n",
       "      <td>Normal</td>\n",
       "      <td>156</td>\n",
       "      <td>Non</td>\n",
       "      <td>1.0</td>\n",
       "      <td>Plat</td>\n",
       "      <td>1</td>\n",
       "    </tr>\n",
       "    <tr>\n",
       "      <th>2</th>\n",
       "      <td>37</td>\n",
       "      <td>homme</td>\n",
       "      <td>AA</td>\n",
       "      <td>130</td>\n",
       "      <td>283</td>\n",
       "      <td>0</td>\n",
       "      <td>ST</td>\n",
       "      <td>98</td>\n",
       "      <td>Non</td>\n",
       "      <td>0.0</td>\n",
       "      <td>Ascendant</td>\n",
       "      <td>0</td>\n",
       "    </tr>\n",
       "    <tr>\n",
       "      <th>3</th>\n",
       "      <td>48</td>\n",
       "      <td>femme</td>\n",
       "      <td>ASY</td>\n",
       "      <td>138</td>\n",
       "      <td>214</td>\n",
       "      <td>0</td>\n",
       "      <td>Normal</td>\n",
       "      <td>108</td>\n",
       "      <td>Oui</td>\n",
       "      <td>1.5</td>\n",
       "      <td>Plat</td>\n",
       "      <td>1</td>\n",
       "    </tr>\n",
       "    <tr>\n",
       "      <th>4</th>\n",
       "      <td>54</td>\n",
       "      <td>homme</td>\n",
       "      <td>DNA</td>\n",
       "      <td>150</td>\n",
       "      <td>195</td>\n",
       "      <td>0</td>\n",
       "      <td>Normal</td>\n",
       "      <td>122</td>\n",
       "      <td>Non</td>\n",
       "      <td>0.0</td>\n",
       "      <td>Ascendant</td>\n",
       "      <td>0</td>\n",
       "    </tr>\n",
       "  </tbody>\n",
       "</table>\n",
       "</div>"
      ],
      "text/plain": [
       "   AGE   SEXE  TDT  PAR  CHOLESTEROL  GAJ     ECG  FCMAX ANGINE  DEPRESSION   \\\n",
       "0   40  homme   AA  140          289    0  Normal    172    Non          0.0   \n",
       "1   49  femme  DNA  160          180    0  Normal    156    Non          1.0   \n",
       "2   37  homme   AA  130          283    0      ST     98    Non          0.0   \n",
       "3   48  femme  ASY  138          214    0  Normal    108    Oui          1.5   \n",
       "4   54  homme  DNA  150          195    0  Normal    122    Non          0.0   \n",
       "\n",
       "       PENTE  CŒUR  \n",
       "0  Ascendant     0  \n",
       "1       Plat     1  \n",
       "2  Ascendant     0  \n",
       "3       Plat     1  \n",
       "4  Ascendant     0  "
      ]
     },
     "execution_count": 3,
     "metadata": {},
     "output_type": "execute_result"
    }
   ],
   "source": [
    "df = data.copy()\n",
    "df.head()"
   ]
  },
  {
   "cell_type": "code",
   "execution_count": 4,
   "metadata": {},
   "outputs": [
    {
     "data": {
      "text/plain": [
       "0    0.0\n",
       "1    1.0\n",
       "2    0.0\n",
       "3    1.5\n",
       "4    0.0\n",
       "Name: DEPRESSION, dtype: float64"
      ]
     },
     "execution_count": 4,
     "metadata": {},
     "output_type": "execute_result"
    }
   ],
   "source": [
    "df.rename(columns={'DEPRESSION ':'DEPRESSION'}, inplace=True)\n",
    "df['DEPRESSION'].head()"
   ]
  },
  {
   "cell_type": "code",
   "execution_count": 5,
   "metadata": {},
   "outputs": [
    {
     "data": {
      "text/plain": [
       "AGE            0\n",
       "SEXE           0\n",
       "TDT            0\n",
       "PAR            0\n",
       "CHOLESTEROL    0\n",
       "GAJ            0\n",
       "ECG            0\n",
       "FCMAX          0\n",
       "ANGINE         0\n",
       "DEPRESSION     0\n",
       "PENTE          0\n",
       "CŒUR           0\n",
       "dtype: int64"
      ]
     },
     "execution_count": 5,
     "metadata": {},
     "output_type": "execute_result"
    }
   ],
   "source": [
    "df.isna().sum()"
   ]
  },
  {
   "cell_type": "code",
   "execution_count": 6,
   "metadata": {},
   "outputs": [
    {
     "data": {
      "text/plain": [
       "0"
      ]
     },
     "execution_count": 6,
     "metadata": {},
     "output_type": "execute_result"
    }
   ],
   "source": [
    "df.duplicated().sum()"
   ]
  },
  {
   "cell_type": "markdown",
   "metadata": {},
   "source": [
    "### ENCODAGE FEATURE QUALITATIVE"
   ]
  },
  {
   "cell_type": "code",
   "execution_count": 7,
   "metadata": {},
   "outputs": [
    {
     "data": {
      "text/html": [
       "<div>\n",
       "<style scoped>\n",
       "    .dataframe tbody tr th:only-of-type {\n",
       "        vertical-align: middle;\n",
       "    }\n",
       "\n",
       "    .dataframe tbody tr th {\n",
       "        vertical-align: top;\n",
       "    }\n",
       "\n",
       "    .dataframe thead th {\n",
       "        text-align: right;\n",
       "    }\n",
       "</style>\n",
       "<table border=\"1\" class=\"dataframe\">\n",
       "  <thead>\n",
       "    <tr style=\"text-align: right;\">\n",
       "      <th></th>\n",
       "      <th>SEXE</th>\n",
       "      <th>TDT</th>\n",
       "      <th>ECG</th>\n",
       "      <th>ANGINE</th>\n",
       "      <th>PENTE</th>\n",
       "    </tr>\n",
       "  </thead>\n",
       "  <tbody>\n",
       "    <tr>\n",
       "      <th>0</th>\n",
       "      <td>homme</td>\n",
       "      <td>AA</td>\n",
       "      <td>Normal</td>\n",
       "      <td>Non</td>\n",
       "      <td>Ascendant</td>\n",
       "    </tr>\n",
       "    <tr>\n",
       "      <th>1</th>\n",
       "      <td>femme</td>\n",
       "      <td>DNA</td>\n",
       "      <td>Normal</td>\n",
       "      <td>Non</td>\n",
       "      <td>Plat</td>\n",
       "    </tr>\n",
       "    <tr>\n",
       "      <th>2</th>\n",
       "      <td>homme</td>\n",
       "      <td>AA</td>\n",
       "      <td>ST</td>\n",
       "      <td>Non</td>\n",
       "      <td>Ascendant</td>\n",
       "    </tr>\n",
       "    <tr>\n",
       "      <th>3</th>\n",
       "      <td>femme</td>\n",
       "      <td>ASY</td>\n",
       "      <td>Normal</td>\n",
       "      <td>Oui</td>\n",
       "      <td>Plat</td>\n",
       "    </tr>\n",
       "    <tr>\n",
       "      <th>4</th>\n",
       "      <td>homme</td>\n",
       "      <td>DNA</td>\n",
       "      <td>Normal</td>\n",
       "      <td>Non</td>\n",
       "      <td>Ascendant</td>\n",
       "    </tr>\n",
       "  </tbody>\n",
       "</table>\n",
       "</div>"
      ],
      "text/plain": [
       "    SEXE  TDT     ECG ANGINE      PENTE\n",
       "0  homme   AA  Normal    Non  Ascendant\n",
       "1  femme  DNA  Normal    Non       Plat\n",
       "2  homme   AA      ST    Non  Ascendant\n",
       "3  femme  ASY  Normal    Oui       Plat\n",
       "4  homme  DNA  Normal    Non  Ascendant"
      ]
     },
     "execution_count": 7,
     "metadata": {},
     "output_type": "execute_result"
    }
   ],
   "source": [
    "df_quali = df.select_dtypes(\"object\")\n",
    "variables_quali = df_quali.columns\n",
    "df_quali.head()"
   ]
  },
  {
   "cell_type": "code",
   "execution_count": 8,
   "metadata": {},
   "outputs": [],
   "source": [
    "### Fonction d'encodage OneHot\n",
    "def encodage_OneHotEncoder(df_quali):\n",
    "    \n",
    "    encode = OneHotEncoder(sparse=False, drop='if_binary')\n",
    "    \n",
    "    df_quali_enc = pd.DataFrame(encode.fit_transform(df_quali), index=df_quali.index)\n",
    "    df_quali_enc.columns = encode.get_feature_names(variables_quali)\n",
    "    \n",
    "    return df_quali_enc"
   ]
  },
  {
   "cell_type": "code",
   "execution_count": 9,
   "metadata": {},
   "outputs": [
    {
     "data": {
      "text/html": [
       "<div>\n",
       "<style scoped>\n",
       "    .dataframe tbody tr th:only-of-type {\n",
       "        vertical-align: middle;\n",
       "    }\n",
       "\n",
       "    .dataframe tbody tr th {\n",
       "        vertical-align: top;\n",
       "    }\n",
       "\n",
       "    .dataframe thead th {\n",
       "        text-align: right;\n",
       "    }\n",
       "</style>\n",
       "<table border=\"1\" class=\"dataframe\">\n",
       "  <thead>\n",
       "    <tr style=\"text-align: right;\">\n",
       "      <th></th>\n",
       "      <th>SEXE_homme</th>\n",
       "      <th>TDT_AA</th>\n",
       "      <th>TDT_ASY</th>\n",
       "      <th>TDT_AT</th>\n",
       "      <th>TDT_DNA</th>\n",
       "      <th>ECG_LVH</th>\n",
       "      <th>ECG_Normal</th>\n",
       "      <th>ECG_ST</th>\n",
       "      <th>ANGINE_Oui</th>\n",
       "      <th>PENTE_Ascendant</th>\n",
       "      <th>PENTE_Descendant</th>\n",
       "      <th>PENTE_Plat</th>\n",
       "    </tr>\n",
       "  </thead>\n",
       "  <tbody>\n",
       "    <tr>\n",
       "      <th>0</th>\n",
       "      <td>1.0</td>\n",
       "      <td>1.0</td>\n",
       "      <td>0.0</td>\n",
       "      <td>0.0</td>\n",
       "      <td>0.0</td>\n",
       "      <td>0.0</td>\n",
       "      <td>1.0</td>\n",
       "      <td>0.0</td>\n",
       "      <td>0.0</td>\n",
       "      <td>1.0</td>\n",
       "      <td>0.0</td>\n",
       "      <td>0.0</td>\n",
       "    </tr>\n",
       "    <tr>\n",
       "      <th>1</th>\n",
       "      <td>0.0</td>\n",
       "      <td>0.0</td>\n",
       "      <td>0.0</td>\n",
       "      <td>0.0</td>\n",
       "      <td>1.0</td>\n",
       "      <td>0.0</td>\n",
       "      <td>1.0</td>\n",
       "      <td>0.0</td>\n",
       "      <td>0.0</td>\n",
       "      <td>0.0</td>\n",
       "      <td>0.0</td>\n",
       "      <td>1.0</td>\n",
       "    </tr>\n",
       "    <tr>\n",
       "      <th>2</th>\n",
       "      <td>1.0</td>\n",
       "      <td>1.0</td>\n",
       "      <td>0.0</td>\n",
       "      <td>0.0</td>\n",
       "      <td>0.0</td>\n",
       "      <td>0.0</td>\n",
       "      <td>0.0</td>\n",
       "      <td>1.0</td>\n",
       "      <td>0.0</td>\n",
       "      <td>1.0</td>\n",
       "      <td>0.0</td>\n",
       "      <td>0.0</td>\n",
       "    </tr>\n",
       "    <tr>\n",
       "      <th>3</th>\n",
       "      <td>0.0</td>\n",
       "      <td>0.0</td>\n",
       "      <td>1.0</td>\n",
       "      <td>0.0</td>\n",
       "      <td>0.0</td>\n",
       "      <td>0.0</td>\n",
       "      <td>1.0</td>\n",
       "      <td>0.0</td>\n",
       "      <td>1.0</td>\n",
       "      <td>0.0</td>\n",
       "      <td>0.0</td>\n",
       "      <td>1.0</td>\n",
       "    </tr>\n",
       "    <tr>\n",
       "      <th>4</th>\n",
       "      <td>1.0</td>\n",
       "      <td>0.0</td>\n",
       "      <td>0.0</td>\n",
       "      <td>0.0</td>\n",
       "      <td>1.0</td>\n",
       "      <td>0.0</td>\n",
       "      <td>1.0</td>\n",
       "      <td>0.0</td>\n",
       "      <td>0.0</td>\n",
       "      <td>1.0</td>\n",
       "      <td>0.0</td>\n",
       "      <td>0.0</td>\n",
       "    </tr>\n",
       "  </tbody>\n",
       "</table>\n",
       "</div>"
      ],
      "text/plain": [
       "   SEXE_homme  TDT_AA  TDT_ASY  TDT_AT  TDT_DNA  ECG_LVH  ECG_Normal  ECG_ST  \\\n",
       "0         1.0     1.0      0.0     0.0      0.0      0.0         1.0     0.0   \n",
       "1         0.0     0.0      0.0     0.0      1.0      0.0         1.0     0.0   \n",
       "2         1.0     1.0      0.0     0.0      0.0      0.0         0.0     1.0   \n",
       "3         0.0     0.0      1.0     0.0      0.0      0.0         1.0     0.0   \n",
       "4         1.0     0.0      0.0     0.0      1.0      0.0         1.0     0.0   \n",
       "\n",
       "   ANGINE_Oui  PENTE_Ascendant  PENTE_Descendant  PENTE_Plat  \n",
       "0         0.0              1.0               0.0         0.0  \n",
       "1         0.0              0.0               0.0         1.0  \n",
       "2         0.0              1.0               0.0         0.0  \n",
       "3         1.0              0.0               0.0         1.0  \n",
       "4         0.0              1.0               0.0         0.0  "
      ]
     },
     "execution_count": 9,
     "metadata": {},
     "output_type": "execute_result"
    }
   ],
   "source": [
    "df_quali = encodage_OneHotEncoder(df_quali)\n",
    "df_quali.head()"
   ]
  },
  {
   "cell_type": "markdown",
   "metadata": {},
   "source": [
    "### CONCATENATION"
   ]
  },
  {
   "cell_type": "code",
   "execution_count": 10,
   "metadata": {},
   "outputs": [
    {
     "data": {
      "text/html": [
       "<div>\n",
       "<style scoped>\n",
       "    .dataframe tbody tr th:only-of-type {\n",
       "        vertical-align: middle;\n",
       "    }\n",
       "\n",
       "    .dataframe tbody tr th {\n",
       "        vertical-align: top;\n",
       "    }\n",
       "\n",
       "    .dataframe thead th {\n",
       "        text-align: right;\n",
       "    }\n",
       "</style>\n",
       "<table border=\"1\" class=\"dataframe\">\n",
       "  <thead>\n",
       "    <tr style=\"text-align: right;\">\n",
       "      <th></th>\n",
       "      <th>AGE</th>\n",
       "      <th>PAR</th>\n",
       "      <th>CHOLESTEROL</th>\n",
       "      <th>GAJ</th>\n",
       "      <th>FCMAX</th>\n",
       "      <th>DEPRESSION</th>\n",
       "      <th>CŒUR</th>\n",
       "      <th>SEXE_homme</th>\n",
       "      <th>TDT_AA</th>\n",
       "      <th>TDT_ASY</th>\n",
       "      <th>TDT_AT</th>\n",
       "      <th>TDT_DNA</th>\n",
       "      <th>ECG_LVH</th>\n",
       "      <th>ECG_Normal</th>\n",
       "      <th>ECG_ST</th>\n",
       "      <th>ANGINE_Oui</th>\n",
       "      <th>PENTE_Ascendant</th>\n",
       "      <th>PENTE_Descendant</th>\n",
       "      <th>PENTE_Plat</th>\n",
       "    </tr>\n",
       "  </thead>\n",
       "  <tbody>\n",
       "    <tr>\n",
       "      <th>0</th>\n",
       "      <td>40</td>\n",
       "      <td>140</td>\n",
       "      <td>289</td>\n",
       "      <td>0</td>\n",
       "      <td>172</td>\n",
       "      <td>0.0</td>\n",
       "      <td>0</td>\n",
       "      <td>1.0</td>\n",
       "      <td>1.0</td>\n",
       "      <td>0.0</td>\n",
       "      <td>0.0</td>\n",
       "      <td>0.0</td>\n",
       "      <td>0.0</td>\n",
       "      <td>1.0</td>\n",
       "      <td>0.0</td>\n",
       "      <td>0.0</td>\n",
       "      <td>1.0</td>\n",
       "      <td>0.0</td>\n",
       "      <td>0.0</td>\n",
       "    </tr>\n",
       "    <tr>\n",
       "      <th>1</th>\n",
       "      <td>49</td>\n",
       "      <td>160</td>\n",
       "      <td>180</td>\n",
       "      <td>0</td>\n",
       "      <td>156</td>\n",
       "      <td>1.0</td>\n",
       "      <td>1</td>\n",
       "      <td>0.0</td>\n",
       "      <td>0.0</td>\n",
       "      <td>0.0</td>\n",
       "      <td>0.0</td>\n",
       "      <td>1.0</td>\n",
       "      <td>0.0</td>\n",
       "      <td>1.0</td>\n",
       "      <td>0.0</td>\n",
       "      <td>0.0</td>\n",
       "      <td>0.0</td>\n",
       "      <td>0.0</td>\n",
       "      <td>1.0</td>\n",
       "    </tr>\n",
       "    <tr>\n",
       "      <th>2</th>\n",
       "      <td>37</td>\n",
       "      <td>130</td>\n",
       "      <td>283</td>\n",
       "      <td>0</td>\n",
       "      <td>98</td>\n",
       "      <td>0.0</td>\n",
       "      <td>0</td>\n",
       "      <td>1.0</td>\n",
       "      <td>1.0</td>\n",
       "      <td>0.0</td>\n",
       "      <td>0.0</td>\n",
       "      <td>0.0</td>\n",
       "      <td>0.0</td>\n",
       "      <td>0.0</td>\n",
       "      <td>1.0</td>\n",
       "      <td>0.0</td>\n",
       "      <td>1.0</td>\n",
       "      <td>0.0</td>\n",
       "      <td>0.0</td>\n",
       "    </tr>\n",
       "    <tr>\n",
       "      <th>3</th>\n",
       "      <td>48</td>\n",
       "      <td>138</td>\n",
       "      <td>214</td>\n",
       "      <td>0</td>\n",
       "      <td>108</td>\n",
       "      <td>1.5</td>\n",
       "      <td>1</td>\n",
       "      <td>0.0</td>\n",
       "      <td>0.0</td>\n",
       "      <td>1.0</td>\n",
       "      <td>0.0</td>\n",
       "      <td>0.0</td>\n",
       "      <td>0.0</td>\n",
       "      <td>1.0</td>\n",
       "      <td>0.0</td>\n",
       "      <td>1.0</td>\n",
       "      <td>0.0</td>\n",
       "      <td>0.0</td>\n",
       "      <td>1.0</td>\n",
       "    </tr>\n",
       "    <tr>\n",
       "      <th>4</th>\n",
       "      <td>54</td>\n",
       "      <td>150</td>\n",
       "      <td>195</td>\n",
       "      <td>0</td>\n",
       "      <td>122</td>\n",
       "      <td>0.0</td>\n",
       "      <td>0</td>\n",
       "      <td>1.0</td>\n",
       "      <td>0.0</td>\n",
       "      <td>0.0</td>\n",
       "      <td>0.0</td>\n",
       "      <td>1.0</td>\n",
       "      <td>0.0</td>\n",
       "      <td>1.0</td>\n",
       "      <td>0.0</td>\n",
       "      <td>0.0</td>\n",
       "      <td>1.0</td>\n",
       "      <td>0.0</td>\n",
       "      <td>0.0</td>\n",
       "    </tr>\n",
       "  </tbody>\n",
       "</table>\n",
       "</div>"
      ],
      "text/plain": [
       "   AGE  PAR  CHOLESTEROL  GAJ  FCMAX  DEPRESSION  CŒUR  SEXE_homme  TDT_AA  \\\n",
       "0   40  140          289    0    172         0.0     0         1.0     1.0   \n",
       "1   49  160          180    0    156         1.0     1         0.0     0.0   \n",
       "2   37  130          283    0     98         0.0     0         1.0     1.0   \n",
       "3   48  138          214    0    108         1.5     1         0.0     0.0   \n",
       "4   54  150          195    0    122         0.0     0         1.0     0.0   \n",
       "\n",
       "   TDT_ASY  TDT_AT  TDT_DNA  ECG_LVH  ECG_Normal  ECG_ST  ANGINE_Oui  \\\n",
       "0      0.0     0.0      0.0      0.0         1.0     0.0         0.0   \n",
       "1      0.0     0.0      1.0      0.0         1.0     0.0         0.0   \n",
       "2      0.0     0.0      0.0      0.0         0.0     1.0         0.0   \n",
       "3      1.0     0.0      0.0      0.0         1.0     0.0         1.0   \n",
       "4      0.0     0.0      1.0      0.0         1.0     0.0         0.0   \n",
       "\n",
       "   PENTE_Ascendant  PENTE_Descendant  PENTE_Plat  \n",
       "0              1.0               0.0         0.0  \n",
       "1              0.0               0.0         1.0  \n",
       "2              1.0               0.0         0.0  \n",
       "3              0.0               0.0         1.0  \n",
       "4              1.0               0.0         0.0  "
      ]
     },
     "execution_count": 10,
     "metadata": {},
     "output_type": "execute_result"
    }
   ],
   "source": [
    "df_new = pd.concat([df.select_dtypes(include=np.number), df_quali], axis=1)\n",
    "df_new.head()"
   ]
  },
  {
   "cell_type": "markdown",
   "metadata": {},
   "source": [
    "### SUBDIVISION DATASET"
   ]
  },
  {
   "cell_type": "code",
   "execution_count": 11,
   "metadata": {},
   "outputs": [],
   "source": [
    "# Fonction pour diviser mon dataset en variables indépendantes et variables dépendantes\n",
    "def decoupe_df(df):\n",
    "\n",
    "    X=df.drop('CŒUR', axis=1)\n",
    "    y=df['CŒUR']\n",
    "    \n",
    "    return X, y"
   ]
  },
  {
   "cell_type": "code",
   "execution_count": 12,
   "metadata": {},
   "outputs": [
    {
     "name": "stdout",
     "output_type": "stream",
     "text": [
      "(918, 19)\n",
      "(918, 18)\n",
      "(918,)\n"
     ]
    }
   ],
   "source": [
    "X, y = decoupe_df(df_new)\n",
    "\n",
    "print(df_new.shape)\n",
    "print(X.shape)\n",
    "print(y.shape)"
   ]
  },
  {
   "cell_type": "code",
   "execution_count": 13,
   "metadata": {},
   "outputs": [],
   "source": [
    "X_train, X_test ,y_train ,y_test = train_test_split(X, y, test_size=0.3, random_state=123)"
   ]
  },
  {
   "cell_type": "code",
   "execution_count": 14,
   "metadata": {},
   "outputs": [
    {
     "data": {
      "text/html": [
       "<div>\n",
       "<style scoped>\n",
       "    .dataframe tbody tr th:only-of-type {\n",
       "        vertical-align: middle;\n",
       "    }\n",
       "\n",
       "    .dataframe tbody tr th {\n",
       "        vertical-align: top;\n",
       "    }\n",
       "\n",
       "    .dataframe thead th {\n",
       "        text-align: right;\n",
       "    }\n",
       "</style>\n",
       "<table border=\"1\" class=\"dataframe\">\n",
       "  <thead>\n",
       "    <tr style=\"text-align: right;\">\n",
       "      <th></th>\n",
       "      <th>AGE</th>\n",
       "      <th>PAR</th>\n",
       "      <th>CHOLESTEROL</th>\n",
       "      <th>GAJ</th>\n",
       "      <th>FCMAX</th>\n",
       "      <th>DEPRESSION</th>\n",
       "      <th>SEXE_homme</th>\n",
       "      <th>TDT_AA</th>\n",
       "      <th>TDT_ASY</th>\n",
       "      <th>TDT_AT</th>\n",
       "      <th>TDT_DNA</th>\n",
       "      <th>ECG_LVH</th>\n",
       "      <th>ECG_Normal</th>\n",
       "      <th>ECG_ST</th>\n",
       "      <th>ANGINE_Oui</th>\n",
       "      <th>PENTE_Ascendant</th>\n",
       "      <th>PENTE_Descendant</th>\n",
       "      <th>PENTE_Plat</th>\n",
       "    </tr>\n",
       "  </thead>\n",
       "  <tbody>\n",
       "    <tr>\n",
       "      <th>132</th>\n",
       "      <td>56</td>\n",
       "      <td>170</td>\n",
       "      <td>388</td>\n",
       "      <td>0</td>\n",
       "      <td>122</td>\n",
       "      <td>2.0</td>\n",
       "      <td>1.0</td>\n",
       "      <td>0.0</td>\n",
       "      <td>1.0</td>\n",
       "      <td>0.0</td>\n",
       "      <td>0.0</td>\n",
       "      <td>0.0</td>\n",
       "      <td>0.0</td>\n",
       "      <td>1.0</td>\n",
       "      <td>1.0</td>\n",
       "      <td>0.0</td>\n",
       "      <td>0.0</td>\n",
       "      <td>1.0</td>\n",
       "    </tr>\n",
       "    <tr>\n",
       "      <th>9</th>\n",
       "      <td>48</td>\n",
       "      <td>120</td>\n",
       "      <td>284</td>\n",
       "      <td>0</td>\n",
       "      <td>120</td>\n",
       "      <td>0.0</td>\n",
       "      <td>0.0</td>\n",
       "      <td>1.0</td>\n",
       "      <td>0.0</td>\n",
       "      <td>0.0</td>\n",
       "      <td>0.0</td>\n",
       "      <td>0.0</td>\n",
       "      <td>1.0</td>\n",
       "      <td>0.0</td>\n",
       "      <td>0.0</td>\n",
       "      <td>1.0</td>\n",
       "      <td>0.0</td>\n",
       "      <td>0.0</td>\n",
       "    </tr>\n",
       "    <tr>\n",
       "      <th>254</th>\n",
       "      <td>55</td>\n",
       "      <td>145</td>\n",
       "      <td>248</td>\n",
       "      <td>0</td>\n",
       "      <td>96</td>\n",
       "      <td>2.0</td>\n",
       "      <td>1.0</td>\n",
       "      <td>0.0</td>\n",
       "      <td>1.0</td>\n",
       "      <td>0.0</td>\n",
       "      <td>0.0</td>\n",
       "      <td>0.0</td>\n",
       "      <td>1.0</td>\n",
       "      <td>0.0</td>\n",
       "      <td>1.0</td>\n",
       "      <td>0.0</td>\n",
       "      <td>0.0</td>\n",
       "      <td>1.0</td>\n",
       "    </tr>\n",
       "    <tr>\n",
       "      <th>787</th>\n",
       "      <td>67</td>\n",
       "      <td>100</td>\n",
       "      <td>299</td>\n",
       "      <td>0</td>\n",
       "      <td>125</td>\n",
       "      <td>0.9</td>\n",
       "      <td>1.0</td>\n",
       "      <td>0.0</td>\n",
       "      <td>1.0</td>\n",
       "      <td>0.0</td>\n",
       "      <td>0.0</td>\n",
       "      <td>1.0</td>\n",
       "      <td>0.0</td>\n",
       "      <td>0.0</td>\n",
       "      <td>1.0</td>\n",
       "      <td>0.0</td>\n",
       "      <td>0.0</td>\n",
       "      <td>1.0</td>\n",
       "    </tr>\n",
       "    <tr>\n",
       "      <th>82</th>\n",
       "      <td>63</td>\n",
       "      <td>150</td>\n",
       "      <td>223</td>\n",
       "      <td>0</td>\n",
       "      <td>115</td>\n",
       "      <td>0.0</td>\n",
       "      <td>1.0</td>\n",
       "      <td>0.0</td>\n",
       "      <td>1.0</td>\n",
       "      <td>0.0</td>\n",
       "      <td>0.0</td>\n",
       "      <td>0.0</td>\n",
       "      <td>1.0</td>\n",
       "      <td>0.0</td>\n",
       "      <td>0.0</td>\n",
       "      <td>0.0</td>\n",
       "      <td>0.0</td>\n",
       "      <td>1.0</td>\n",
       "    </tr>\n",
       "  </tbody>\n",
       "</table>\n",
       "</div>"
      ],
      "text/plain": [
       "     AGE  PAR  CHOLESTEROL  GAJ  FCMAX  DEPRESSION  SEXE_homme  TDT_AA  \\\n",
       "132   56  170          388    0    122         2.0         1.0     0.0   \n",
       "9     48  120          284    0    120         0.0         0.0     1.0   \n",
       "254   55  145          248    0     96         2.0         1.0     0.0   \n",
       "787   67  100          299    0    125         0.9         1.0     0.0   \n",
       "82    63  150          223    0    115         0.0         1.0     0.0   \n",
       "\n",
       "     TDT_ASY  TDT_AT  TDT_DNA  ECG_LVH  ECG_Normal  ECG_ST  ANGINE_Oui  \\\n",
       "132      1.0     0.0      0.0      0.0         0.0     1.0         1.0   \n",
       "9        0.0     0.0      0.0      0.0         1.0     0.0         0.0   \n",
       "254      1.0     0.0      0.0      0.0         1.0     0.0         1.0   \n",
       "787      1.0     0.0      0.0      1.0         0.0     0.0         1.0   \n",
       "82       1.0     0.0      0.0      0.0         1.0     0.0         0.0   \n",
       "\n",
       "     PENTE_Ascendant  PENTE_Descendant  PENTE_Plat  \n",
       "132              0.0               0.0         1.0  \n",
       "9                1.0               0.0         0.0  \n",
       "254              0.0               0.0         1.0  \n",
       "787              0.0               0.0         1.0  \n",
       "82               0.0               0.0         1.0  "
      ]
     },
     "execution_count": 14,
     "metadata": {},
     "output_type": "execute_result"
    }
   ],
   "source": [
    "X_train.head()"
   ]
  },
  {
   "cell_type": "code",
   "execution_count": 15,
   "metadata": {},
   "outputs": [
    {
     "data": {
      "text/plain": [
       "132    1\n",
       "9      0\n",
       "254    1\n",
       "787    1\n",
       "82     1\n",
       "Name: CŒUR, dtype: int64"
      ]
     },
     "execution_count": 15,
     "metadata": {},
     "output_type": "execute_result"
    }
   ],
   "source": [
    "y_train.head()"
   ]
  },
  {
   "cell_type": "code",
   "execution_count": 16,
   "metadata": {},
   "outputs": [
    {
     "name": "stdout",
     "output_type": "stream",
     "text": [
      "(642, 18)\n",
      "(276, 18)\n",
      "(642,)\n",
      "(276,)\n"
     ]
    }
   ],
   "source": [
    "print(X_train.shape)\n",
    "print(X_test.shape)\n",
    "print(y_train.shape)\n",
    "print(y_test.shape)"
   ]
  },
  {
   "cell_type": "markdown",
   "metadata": {},
   "source": [
    "### NORMALISATION FEATURES QUANTITATIVES CONTINUES"
   ]
  },
  {
   "cell_type": "code",
   "execution_count": 17,
   "metadata": {},
   "outputs": [
    {
     "data": {
      "text/html": [
       "<div>\n",
       "<style scoped>\n",
       "    .dataframe tbody tr th:only-of-type {\n",
       "        vertical-align: middle;\n",
       "    }\n",
       "\n",
       "    .dataframe tbody tr th {\n",
       "        vertical-align: top;\n",
       "    }\n",
       "\n",
       "    .dataframe thead th {\n",
       "        text-align: right;\n",
       "    }\n",
       "</style>\n",
       "<table border=\"1\" class=\"dataframe\">\n",
       "  <thead>\n",
       "    <tr style=\"text-align: right;\">\n",
       "      <th></th>\n",
       "      <th>AGE</th>\n",
       "      <th>PAR</th>\n",
       "      <th>CHOLESTEROL</th>\n",
       "      <th>GAJ</th>\n",
       "      <th>FCMAX</th>\n",
       "      <th>DEPRESSION</th>\n",
       "      <th>CŒUR</th>\n",
       "    </tr>\n",
       "  </thead>\n",
       "  <tbody>\n",
       "    <tr>\n",
       "      <th>0</th>\n",
       "      <td>40</td>\n",
       "      <td>140</td>\n",
       "      <td>289</td>\n",
       "      <td>0</td>\n",
       "      <td>172</td>\n",
       "      <td>0.0</td>\n",
       "      <td>0</td>\n",
       "    </tr>\n",
       "    <tr>\n",
       "      <th>1</th>\n",
       "      <td>49</td>\n",
       "      <td>160</td>\n",
       "      <td>180</td>\n",
       "      <td>0</td>\n",
       "      <td>156</td>\n",
       "      <td>1.0</td>\n",
       "      <td>1</td>\n",
       "    </tr>\n",
       "    <tr>\n",
       "      <th>2</th>\n",
       "      <td>37</td>\n",
       "      <td>130</td>\n",
       "      <td>283</td>\n",
       "      <td>0</td>\n",
       "      <td>98</td>\n",
       "      <td>0.0</td>\n",
       "      <td>0</td>\n",
       "    </tr>\n",
       "    <tr>\n",
       "      <th>3</th>\n",
       "      <td>48</td>\n",
       "      <td>138</td>\n",
       "      <td>214</td>\n",
       "      <td>0</td>\n",
       "      <td>108</td>\n",
       "      <td>1.5</td>\n",
       "      <td>1</td>\n",
       "    </tr>\n",
       "    <tr>\n",
       "      <th>4</th>\n",
       "      <td>54</td>\n",
       "      <td>150</td>\n",
       "      <td>195</td>\n",
       "      <td>0</td>\n",
       "      <td>122</td>\n",
       "      <td>0.0</td>\n",
       "      <td>0</td>\n",
       "    </tr>\n",
       "    <tr>\n",
       "      <th>...</th>\n",
       "      <td>...</td>\n",
       "      <td>...</td>\n",
       "      <td>...</td>\n",
       "      <td>...</td>\n",
       "      <td>...</td>\n",
       "      <td>...</td>\n",
       "      <td>...</td>\n",
       "    </tr>\n",
       "    <tr>\n",
       "      <th>913</th>\n",
       "      <td>45</td>\n",
       "      <td>110</td>\n",
       "      <td>264</td>\n",
       "      <td>0</td>\n",
       "      <td>132</td>\n",
       "      <td>1.2</td>\n",
       "      <td>1</td>\n",
       "    </tr>\n",
       "    <tr>\n",
       "      <th>914</th>\n",
       "      <td>68</td>\n",
       "      <td>144</td>\n",
       "      <td>193</td>\n",
       "      <td>1</td>\n",
       "      <td>141</td>\n",
       "      <td>3.4</td>\n",
       "      <td>1</td>\n",
       "    </tr>\n",
       "    <tr>\n",
       "      <th>915</th>\n",
       "      <td>57</td>\n",
       "      <td>130</td>\n",
       "      <td>131</td>\n",
       "      <td>0</td>\n",
       "      <td>115</td>\n",
       "      <td>1.2</td>\n",
       "      <td>1</td>\n",
       "    </tr>\n",
       "    <tr>\n",
       "      <th>916</th>\n",
       "      <td>57</td>\n",
       "      <td>130</td>\n",
       "      <td>236</td>\n",
       "      <td>0</td>\n",
       "      <td>174</td>\n",
       "      <td>0.0</td>\n",
       "      <td>1</td>\n",
       "    </tr>\n",
       "    <tr>\n",
       "      <th>917</th>\n",
       "      <td>38</td>\n",
       "      <td>138</td>\n",
       "      <td>175</td>\n",
       "      <td>0</td>\n",
       "      <td>173</td>\n",
       "      <td>0.0</td>\n",
       "      <td>0</td>\n",
       "    </tr>\n",
       "  </tbody>\n",
       "</table>\n",
       "<p>918 rows × 7 columns</p>\n",
       "</div>"
      ],
      "text/plain": [
       "     AGE  PAR  CHOLESTEROL  GAJ  FCMAX  DEPRESSION  CŒUR\n",
       "0     40  140          289    0    172         0.0     0\n",
       "1     49  160          180    0    156         1.0     1\n",
       "2     37  130          283    0     98         0.0     0\n",
       "3     48  138          214    0    108         1.5     1\n",
       "4     54  150          195    0    122         0.0     0\n",
       "..   ...  ...          ...  ...    ...         ...   ...\n",
       "913   45  110          264    0    132         1.2     1\n",
       "914   68  144          193    1    141         3.4     1\n",
       "915   57  130          131    0    115         1.2     1\n",
       "916   57  130          236    0    174         0.0     1\n",
       "917   38  138          175    0    173         0.0     0\n",
       "\n",
       "[918 rows x 7 columns]"
      ]
     },
     "execution_count": 17,
     "metadata": {},
     "output_type": "execute_result"
    }
   ],
   "source": [
    "df.select_dtypes(include=np.number)"
   ]
  },
  {
   "cell_type": "code",
   "execution_count": 18,
   "metadata": {},
   "outputs": [
    {
     "data": {
      "text/plain": [
       "Index(['AGE', 'PAR', 'CHOLESTEROL', 'FCMAX', 'DEPRESSION'], dtype='object')"
      ]
     },
     "execution_count": 18,
     "metadata": {},
     "output_type": "execute_result"
    }
   ],
   "source": [
    "var_quant_cont = df.select_dtypes(include=np.number).drop(['GAJ','CŒUR'], axis=1).columns\n",
    "var_quant_cont"
   ]
  },
  {
   "cell_type": "code",
   "execution_count": 19,
   "metadata": {},
   "outputs": [],
   "source": [
    "### Créons une fonction et séparons les données quanti, des données quali chez les features X_train et X_test\n",
    "def decoupe_X(X):\n",
    "\n",
    "    X_quanti = X[var_quant_cont]\n",
    "    X_quali = X.drop(columns=var_quant_cont)\n",
    "    \n",
    "    return X_quanti, X_quali"
   ]
  },
  {
   "cell_type": "code",
   "execution_count": 20,
   "metadata": {},
   "outputs": [],
   "source": [
    "## Separation quanti quali X_train\n",
    "X_train_quanti, X_train_quali = decoupe_X(X_train)"
   ]
  },
  {
   "cell_type": "code",
   "execution_count": 21,
   "metadata": {},
   "outputs": [],
   "source": [
    "X_test_quanti, X_test_quali = decoupe_X(X_test)"
   ]
  },
  {
   "cell_type": "code",
   "execution_count": 22,
   "metadata": {},
   "outputs": [
    {
     "data": {
      "text/html": [
       "<div>\n",
       "<style scoped>\n",
       "    .dataframe tbody tr th:only-of-type {\n",
       "        vertical-align: middle;\n",
       "    }\n",
       "\n",
       "    .dataframe tbody tr th {\n",
       "        vertical-align: top;\n",
       "    }\n",
       "\n",
       "    .dataframe thead th {\n",
       "        text-align: right;\n",
       "    }\n",
       "</style>\n",
       "<table border=\"1\" class=\"dataframe\">\n",
       "  <thead>\n",
       "    <tr style=\"text-align: right;\">\n",
       "      <th></th>\n",
       "      <th>AGE</th>\n",
       "      <th>PAR</th>\n",
       "      <th>CHOLESTEROL</th>\n",
       "      <th>FCMAX</th>\n",
       "      <th>DEPRESSION</th>\n",
       "    </tr>\n",
       "  </thead>\n",
       "  <tbody>\n",
       "    <tr>\n",
       "      <th>132</th>\n",
       "      <td>56</td>\n",
       "      <td>170</td>\n",
       "      <td>388</td>\n",
       "      <td>122</td>\n",
       "      <td>2.0</td>\n",
       "    </tr>\n",
       "    <tr>\n",
       "      <th>9</th>\n",
       "      <td>48</td>\n",
       "      <td>120</td>\n",
       "      <td>284</td>\n",
       "      <td>120</td>\n",
       "      <td>0.0</td>\n",
       "    </tr>\n",
       "    <tr>\n",
       "      <th>254</th>\n",
       "      <td>55</td>\n",
       "      <td>145</td>\n",
       "      <td>248</td>\n",
       "      <td>96</td>\n",
       "      <td>2.0</td>\n",
       "    </tr>\n",
       "    <tr>\n",
       "      <th>787</th>\n",
       "      <td>67</td>\n",
       "      <td>100</td>\n",
       "      <td>299</td>\n",
       "      <td>125</td>\n",
       "      <td>0.9</td>\n",
       "    </tr>\n",
       "    <tr>\n",
       "      <th>82</th>\n",
       "      <td>63</td>\n",
       "      <td>150</td>\n",
       "      <td>223</td>\n",
       "      <td>115</td>\n",
       "      <td>0.0</td>\n",
       "    </tr>\n",
       "  </tbody>\n",
       "</table>\n",
       "</div>"
      ],
      "text/plain": [
       "     AGE  PAR  CHOLESTEROL  FCMAX  DEPRESSION\n",
       "132   56  170          388    122         2.0\n",
       "9     48  120          284    120         0.0\n",
       "254   55  145          248     96         2.0\n",
       "787   67  100          299    125         0.9\n",
       "82    63  150          223    115         0.0"
      ]
     },
     "execution_count": 22,
     "metadata": {},
     "output_type": "execute_result"
    }
   ],
   "source": [
    "X_train_quanti.head()"
   ]
  },
  {
   "cell_type": "code",
   "execution_count": 23,
   "metadata": {},
   "outputs": [
    {
     "data": {
      "text/html": [
       "<div>\n",
       "<style scoped>\n",
       "    .dataframe tbody tr th:only-of-type {\n",
       "        vertical-align: middle;\n",
       "    }\n",
       "\n",
       "    .dataframe tbody tr th {\n",
       "        vertical-align: top;\n",
       "    }\n",
       "\n",
       "    .dataframe thead th {\n",
       "        text-align: right;\n",
       "    }\n",
       "</style>\n",
       "<table border=\"1\" class=\"dataframe\">\n",
       "  <thead>\n",
       "    <tr style=\"text-align: right;\">\n",
       "      <th></th>\n",
       "      <th>GAJ</th>\n",
       "      <th>SEXE_homme</th>\n",
       "      <th>TDT_AA</th>\n",
       "      <th>TDT_ASY</th>\n",
       "      <th>TDT_AT</th>\n",
       "      <th>TDT_DNA</th>\n",
       "      <th>ECG_LVH</th>\n",
       "      <th>ECG_Normal</th>\n",
       "      <th>ECG_ST</th>\n",
       "      <th>ANGINE_Oui</th>\n",
       "      <th>PENTE_Ascendant</th>\n",
       "      <th>PENTE_Descendant</th>\n",
       "      <th>PENTE_Plat</th>\n",
       "    </tr>\n",
       "  </thead>\n",
       "  <tbody>\n",
       "    <tr>\n",
       "      <th>132</th>\n",
       "      <td>0</td>\n",
       "      <td>1.0</td>\n",
       "      <td>0.0</td>\n",
       "      <td>1.0</td>\n",
       "      <td>0.0</td>\n",
       "      <td>0.0</td>\n",
       "      <td>0.0</td>\n",
       "      <td>0.0</td>\n",
       "      <td>1.0</td>\n",
       "      <td>1.0</td>\n",
       "      <td>0.0</td>\n",
       "      <td>0.0</td>\n",
       "      <td>1.0</td>\n",
       "    </tr>\n",
       "    <tr>\n",
       "      <th>9</th>\n",
       "      <td>0</td>\n",
       "      <td>0.0</td>\n",
       "      <td>1.0</td>\n",
       "      <td>0.0</td>\n",
       "      <td>0.0</td>\n",
       "      <td>0.0</td>\n",
       "      <td>0.0</td>\n",
       "      <td>1.0</td>\n",
       "      <td>0.0</td>\n",
       "      <td>0.0</td>\n",
       "      <td>1.0</td>\n",
       "      <td>0.0</td>\n",
       "      <td>0.0</td>\n",
       "    </tr>\n",
       "    <tr>\n",
       "      <th>254</th>\n",
       "      <td>0</td>\n",
       "      <td>1.0</td>\n",
       "      <td>0.0</td>\n",
       "      <td>1.0</td>\n",
       "      <td>0.0</td>\n",
       "      <td>0.0</td>\n",
       "      <td>0.0</td>\n",
       "      <td>1.0</td>\n",
       "      <td>0.0</td>\n",
       "      <td>1.0</td>\n",
       "      <td>0.0</td>\n",
       "      <td>0.0</td>\n",
       "      <td>1.0</td>\n",
       "    </tr>\n",
       "    <tr>\n",
       "      <th>787</th>\n",
       "      <td>0</td>\n",
       "      <td>1.0</td>\n",
       "      <td>0.0</td>\n",
       "      <td>1.0</td>\n",
       "      <td>0.0</td>\n",
       "      <td>0.0</td>\n",
       "      <td>1.0</td>\n",
       "      <td>0.0</td>\n",
       "      <td>0.0</td>\n",
       "      <td>1.0</td>\n",
       "      <td>0.0</td>\n",
       "      <td>0.0</td>\n",
       "      <td>1.0</td>\n",
       "    </tr>\n",
       "    <tr>\n",
       "      <th>82</th>\n",
       "      <td>0</td>\n",
       "      <td>1.0</td>\n",
       "      <td>0.0</td>\n",
       "      <td>1.0</td>\n",
       "      <td>0.0</td>\n",
       "      <td>0.0</td>\n",
       "      <td>0.0</td>\n",
       "      <td>1.0</td>\n",
       "      <td>0.0</td>\n",
       "      <td>0.0</td>\n",
       "      <td>0.0</td>\n",
       "      <td>0.0</td>\n",
       "      <td>1.0</td>\n",
       "    </tr>\n",
       "  </tbody>\n",
       "</table>\n",
       "</div>"
      ],
      "text/plain": [
       "     GAJ  SEXE_homme  TDT_AA  TDT_ASY  TDT_AT  TDT_DNA  ECG_LVH  ECG_Normal  \\\n",
       "132    0         1.0     0.0      1.0     0.0      0.0      0.0         0.0   \n",
       "9      0         0.0     1.0      0.0     0.0      0.0      0.0         1.0   \n",
       "254    0         1.0     0.0      1.0     0.0      0.0      0.0         1.0   \n",
       "787    0         1.0     0.0      1.0     0.0      0.0      1.0         0.0   \n",
       "82     0         1.0     0.0      1.0     0.0      0.0      0.0         1.0   \n",
       "\n",
       "     ECG_ST  ANGINE_Oui  PENTE_Ascendant  PENTE_Descendant  PENTE_Plat  \n",
       "132     1.0         1.0              0.0               0.0         1.0  \n",
       "9       0.0         0.0              1.0               0.0         0.0  \n",
       "254     0.0         1.0              0.0               0.0         1.0  \n",
       "787     0.0         1.0              0.0               0.0         1.0  \n",
       "82      0.0         0.0              0.0               0.0         1.0  "
      ]
     },
     "execution_count": 23,
     "metadata": {},
     "output_type": "execute_result"
    }
   ],
   "source": [
    "X_train_quali.head()"
   ]
  },
  {
   "cell_type": "code",
   "execution_count": 24,
   "metadata": {},
   "outputs": [
    {
     "data": {
      "text/html": [
       "<div>\n",
       "<style scoped>\n",
       "    .dataframe tbody tr th:only-of-type {\n",
       "        vertical-align: middle;\n",
       "    }\n",
       "\n",
       "    .dataframe tbody tr th {\n",
       "        vertical-align: top;\n",
       "    }\n",
       "\n",
       "    .dataframe thead th {\n",
       "        text-align: right;\n",
       "    }\n",
       "</style>\n",
       "<table border=\"1\" class=\"dataframe\">\n",
       "  <thead>\n",
       "    <tr style=\"text-align: right;\">\n",
       "      <th></th>\n",
       "      <th>AGE</th>\n",
       "      <th>PAR</th>\n",
       "      <th>CHOLESTEROL</th>\n",
       "      <th>FCMAX</th>\n",
       "      <th>DEPRESSION</th>\n",
       "    </tr>\n",
       "  </thead>\n",
       "  <tbody>\n",
       "    <tr>\n",
       "      <th>349</th>\n",
       "      <td>36</td>\n",
       "      <td>110</td>\n",
       "      <td>0</td>\n",
       "      <td>125</td>\n",
       "      <td>1.0</td>\n",
       "    </tr>\n",
       "    <tr>\n",
       "      <th>653</th>\n",
       "      <td>42</td>\n",
       "      <td>130</td>\n",
       "      <td>180</td>\n",
       "      <td>150</td>\n",
       "      <td>0.0</td>\n",
       "    </tr>\n",
       "    <tr>\n",
       "      <th>7</th>\n",
       "      <td>54</td>\n",
       "      <td>110</td>\n",
       "      <td>208</td>\n",
       "      <td>142</td>\n",
       "      <td>0.0</td>\n",
       "    </tr>\n",
       "    <tr>\n",
       "      <th>571</th>\n",
       "      <td>69</td>\n",
       "      <td>140</td>\n",
       "      <td>110</td>\n",
       "      <td>109</td>\n",
       "      <td>1.5</td>\n",
       "    </tr>\n",
       "    <tr>\n",
       "      <th>171</th>\n",
       "      <td>40</td>\n",
       "      <td>140</td>\n",
       "      <td>235</td>\n",
       "      <td>188</td>\n",
       "      <td>0.0</td>\n",
       "    </tr>\n",
       "  </tbody>\n",
       "</table>\n",
       "</div>"
      ],
      "text/plain": [
       "     AGE  PAR  CHOLESTEROL  FCMAX  DEPRESSION\n",
       "349   36  110            0    125         1.0\n",
       "653   42  130          180    150         0.0\n",
       "7     54  110          208    142         0.0\n",
       "571   69  140          110    109         1.5\n",
       "171   40  140          235    188         0.0"
      ]
     },
     "execution_count": 24,
     "metadata": {},
     "output_type": "execute_result"
    }
   ],
   "source": [
    "X_test_quanti.head()"
   ]
  },
  {
   "cell_type": "code",
   "execution_count": 25,
   "metadata": {},
   "outputs": [
    {
     "data": {
      "text/html": [
       "<div>\n",
       "<style scoped>\n",
       "    .dataframe tbody tr th:only-of-type {\n",
       "        vertical-align: middle;\n",
       "    }\n",
       "\n",
       "    .dataframe tbody tr th {\n",
       "        vertical-align: top;\n",
       "    }\n",
       "\n",
       "    .dataframe thead th {\n",
       "        text-align: right;\n",
       "    }\n",
       "</style>\n",
       "<table border=\"1\" class=\"dataframe\">\n",
       "  <thead>\n",
       "    <tr style=\"text-align: right;\">\n",
       "      <th></th>\n",
       "      <th>GAJ</th>\n",
       "      <th>SEXE_homme</th>\n",
       "      <th>TDT_AA</th>\n",
       "      <th>TDT_ASY</th>\n",
       "      <th>TDT_AT</th>\n",
       "      <th>TDT_DNA</th>\n",
       "      <th>ECG_LVH</th>\n",
       "      <th>ECG_Normal</th>\n",
       "      <th>ECG_ST</th>\n",
       "      <th>ANGINE_Oui</th>\n",
       "      <th>PENTE_Ascendant</th>\n",
       "      <th>PENTE_Descendant</th>\n",
       "      <th>PENTE_Plat</th>\n",
       "    </tr>\n",
       "  </thead>\n",
       "  <tbody>\n",
       "    <tr>\n",
       "      <th>349</th>\n",
       "      <td>1</td>\n",
       "      <td>1.0</td>\n",
       "      <td>0.0</td>\n",
       "      <td>1.0</td>\n",
       "      <td>0.0</td>\n",
       "      <td>0.0</td>\n",
       "      <td>0.0</td>\n",
       "      <td>1.0</td>\n",
       "      <td>0.0</td>\n",
       "      <td>1.0</td>\n",
       "      <td>0.0</td>\n",
       "      <td>0.0</td>\n",
       "      <td>1.0</td>\n",
       "    </tr>\n",
       "    <tr>\n",
       "      <th>653</th>\n",
       "      <td>0</td>\n",
       "      <td>1.0</td>\n",
       "      <td>0.0</td>\n",
       "      <td>0.0</td>\n",
       "      <td>0.0</td>\n",
       "      <td>1.0</td>\n",
       "      <td>0.0</td>\n",
       "      <td>1.0</td>\n",
       "      <td>0.0</td>\n",
       "      <td>0.0</td>\n",
       "      <td>1.0</td>\n",
       "      <td>0.0</td>\n",
       "      <td>0.0</td>\n",
       "    </tr>\n",
       "    <tr>\n",
       "      <th>7</th>\n",
       "      <td>0</td>\n",
       "      <td>1.0</td>\n",
       "      <td>1.0</td>\n",
       "      <td>0.0</td>\n",
       "      <td>0.0</td>\n",
       "      <td>0.0</td>\n",
       "      <td>0.0</td>\n",
       "      <td>1.0</td>\n",
       "      <td>0.0</td>\n",
       "      <td>0.0</td>\n",
       "      <td>1.0</td>\n",
       "      <td>0.0</td>\n",
       "      <td>0.0</td>\n",
       "    </tr>\n",
       "    <tr>\n",
       "      <th>571</th>\n",
       "      <td>1</td>\n",
       "      <td>1.0</td>\n",
       "      <td>0.0</td>\n",
       "      <td>1.0</td>\n",
       "      <td>0.0</td>\n",
       "      <td>0.0</td>\n",
       "      <td>0.0</td>\n",
       "      <td>1.0</td>\n",
       "      <td>0.0</td>\n",
       "      <td>1.0</td>\n",
       "      <td>0.0</td>\n",
       "      <td>0.0</td>\n",
       "      <td>1.0</td>\n",
       "    </tr>\n",
       "    <tr>\n",
       "      <th>171</th>\n",
       "      <td>0</td>\n",
       "      <td>1.0</td>\n",
       "      <td>0.0</td>\n",
       "      <td>0.0</td>\n",
       "      <td>0.0</td>\n",
       "      <td>1.0</td>\n",
       "      <td>0.0</td>\n",
       "      <td>1.0</td>\n",
       "      <td>0.0</td>\n",
       "      <td>0.0</td>\n",
       "      <td>1.0</td>\n",
       "      <td>0.0</td>\n",
       "      <td>0.0</td>\n",
       "    </tr>\n",
       "  </tbody>\n",
       "</table>\n",
       "</div>"
      ],
      "text/plain": [
       "     GAJ  SEXE_homme  TDT_AA  TDT_ASY  TDT_AT  TDT_DNA  ECG_LVH  ECG_Normal  \\\n",
       "349    1         1.0     0.0      1.0     0.0      0.0      0.0         1.0   \n",
       "653    0         1.0     0.0      0.0     0.0      1.0      0.0         1.0   \n",
       "7      0         1.0     1.0      0.0     0.0      0.0      0.0         1.0   \n",
       "571    1         1.0     0.0      1.0     0.0      0.0      0.0         1.0   \n",
       "171    0         1.0     0.0      0.0     0.0      1.0      0.0         1.0   \n",
       "\n",
       "     ECG_ST  ANGINE_Oui  PENTE_Ascendant  PENTE_Descendant  PENTE_Plat  \n",
       "349     0.0         1.0              0.0               0.0         1.0  \n",
       "653     0.0         0.0              1.0               0.0         0.0  \n",
       "7       0.0         0.0              1.0               0.0         0.0  \n",
       "571     0.0         1.0              0.0               0.0         1.0  \n",
       "171     0.0         0.0              1.0               0.0         0.0  "
      ]
     },
     "execution_count": 25,
     "metadata": {},
     "output_type": "execute_result"
    }
   ],
   "source": [
    "X_test_quali.head()"
   ]
  },
  {
   "cell_type": "markdown",
   "metadata": {},
   "source": [
    "### NORMALISATION"
   ]
  },
  {
   "cell_type": "markdown",
   "metadata": {},
   "source": [
    "Ensuite, créons une pipeline pour normaliser les variables quantitatives. Nous nous servons de la normalisation effectuer sur les données d'entrainement pour affecter les données de test."
   ]
  },
  {
   "cell_type": "code",
   "execution_count": 26,
   "metadata": {},
   "outputs": [],
   "source": [
    "## Pipeline pour normaliser X_train et X_test\n",
    "def pipeline_normalizer(train,test):\n",
    "    \n",
    "    scaler = RobustScaler()\n",
    "\n",
    "    df_train=scaler.fit_transform(train)\n",
    "    df_train = pd.DataFrame(df_train, index=train.index, columns=train.columns)\n",
    "\n",
    "    df_test = scaler.transform(test)\n",
    "    df_test = pd.DataFrame(df_test, index=test.index, columns=test.columns)\n",
    "\n",
    "    \n",
    "    return df_train,df_test"
   ]
  },
  {
   "cell_type": "code",
   "execution_count": 27,
   "metadata": {},
   "outputs": [],
   "source": [
    "X_train_quanti, X_test_quanti = pipeline_normalizer(X_train_quanti, X_test_quanti)"
   ]
  },
  {
   "cell_type": "code",
   "execution_count": 28,
   "metadata": {},
   "outputs": [
    {
     "data": {
      "text/html": [
       "<div>\n",
       "<style scoped>\n",
       "    .dataframe tbody tr th:only-of-type {\n",
       "        vertical-align: middle;\n",
       "    }\n",
       "\n",
       "    .dataframe tbody tr th {\n",
       "        vertical-align: top;\n",
       "    }\n",
       "\n",
       "    .dataframe thead th {\n",
       "        text-align: right;\n",
       "    }\n",
       "</style>\n",
       "<table border=\"1\" class=\"dataframe\">\n",
       "  <thead>\n",
       "    <tr style=\"text-align: right;\">\n",
       "      <th></th>\n",
       "      <th>AGE</th>\n",
       "      <th>PAR</th>\n",
       "      <th>CHOLESTEROL</th>\n",
       "      <th>FCMAX</th>\n",
       "      <th>DEPRESSION</th>\n",
       "    </tr>\n",
       "  </thead>\n",
       "  <tbody>\n",
       "    <tr>\n",
       "      <th>132</th>\n",
       "      <td>0.142857</td>\n",
       "      <td>2.00</td>\n",
       "      <td>1.733681</td>\n",
       "      <td>-0.432432</td>\n",
       "      <td>0.933333</td>\n",
       "    </tr>\n",
       "    <tr>\n",
       "      <th>9</th>\n",
       "      <td>-0.428571</td>\n",
       "      <td>-0.50</td>\n",
       "      <td>0.647520</td>\n",
       "      <td>-0.486486</td>\n",
       "      <td>-0.400000</td>\n",
       "    </tr>\n",
       "    <tr>\n",
       "      <th>254</th>\n",
       "      <td>0.071429</td>\n",
       "      <td>0.75</td>\n",
       "      <td>0.271540</td>\n",
       "      <td>-1.135135</td>\n",
       "      <td>0.933333</td>\n",
       "    </tr>\n",
       "    <tr>\n",
       "      <th>787</th>\n",
       "      <td>0.928571</td>\n",
       "      <td>-1.50</td>\n",
       "      <td>0.804178</td>\n",
       "      <td>-0.351351</td>\n",
       "      <td>0.200000</td>\n",
       "    </tr>\n",
       "    <tr>\n",
       "      <th>82</th>\n",
       "      <td>0.642857</td>\n",
       "      <td>1.00</td>\n",
       "      <td>0.010444</td>\n",
       "      <td>-0.621622</td>\n",
       "      <td>-0.400000</td>\n",
       "    </tr>\n",
       "  </tbody>\n",
       "</table>\n",
       "</div>"
      ],
      "text/plain": [
       "          AGE   PAR  CHOLESTEROL     FCMAX  DEPRESSION\n",
       "132  0.142857  2.00     1.733681 -0.432432    0.933333\n",
       "9   -0.428571 -0.50     0.647520 -0.486486   -0.400000\n",
       "254  0.071429  0.75     0.271540 -1.135135    0.933333\n",
       "787  0.928571 -1.50     0.804178 -0.351351    0.200000\n",
       "82   0.642857  1.00     0.010444 -0.621622   -0.400000"
      ]
     },
     "execution_count": 28,
     "metadata": {},
     "output_type": "execute_result"
    }
   ],
   "source": [
    "X_train_quanti.head()"
   ]
  },
  {
   "cell_type": "code",
   "execution_count": 29,
   "metadata": {},
   "outputs": [
    {
     "data": {
      "text/html": [
       "<div>\n",
       "<style scoped>\n",
       "    .dataframe tbody tr th:only-of-type {\n",
       "        vertical-align: middle;\n",
       "    }\n",
       "\n",
       "    .dataframe tbody tr th {\n",
       "        vertical-align: top;\n",
       "    }\n",
       "\n",
       "    .dataframe thead th {\n",
       "        text-align: right;\n",
       "    }\n",
       "</style>\n",
       "<table border=\"1\" class=\"dataframe\">\n",
       "  <thead>\n",
       "    <tr style=\"text-align: right;\">\n",
       "      <th></th>\n",
       "      <th>AGE</th>\n",
       "      <th>PAR</th>\n",
       "      <th>CHOLESTEROL</th>\n",
       "      <th>FCMAX</th>\n",
       "      <th>DEPRESSION</th>\n",
       "    </tr>\n",
       "  </thead>\n",
       "  <tbody>\n",
       "    <tr>\n",
       "      <th>349</th>\n",
       "      <td>-1.285714</td>\n",
       "      <td>-1.0</td>\n",
       "      <td>-2.318538</td>\n",
       "      <td>-0.351351</td>\n",
       "      <td>0.266667</td>\n",
       "    </tr>\n",
       "    <tr>\n",
       "      <th>653</th>\n",
       "      <td>-0.857143</td>\n",
       "      <td>0.0</td>\n",
       "      <td>-0.438642</td>\n",
       "      <td>0.324324</td>\n",
       "      <td>-0.400000</td>\n",
       "    </tr>\n",
       "    <tr>\n",
       "      <th>7</th>\n",
       "      <td>0.000000</td>\n",
       "      <td>-1.0</td>\n",
       "      <td>-0.146214</td>\n",
       "      <td>0.108108</td>\n",
       "      <td>-0.400000</td>\n",
       "    </tr>\n",
       "    <tr>\n",
       "      <th>571</th>\n",
       "      <td>1.071429</td>\n",
       "      <td>0.5</td>\n",
       "      <td>-1.169713</td>\n",
       "      <td>-0.783784</td>\n",
       "      <td>0.600000</td>\n",
       "    </tr>\n",
       "    <tr>\n",
       "      <th>171</th>\n",
       "      <td>-1.000000</td>\n",
       "      <td>0.5</td>\n",
       "      <td>0.135770</td>\n",
       "      <td>1.351351</td>\n",
       "      <td>-0.400000</td>\n",
       "    </tr>\n",
       "  </tbody>\n",
       "</table>\n",
       "</div>"
      ],
      "text/plain": [
       "          AGE  PAR  CHOLESTEROL     FCMAX  DEPRESSION\n",
       "349 -1.285714 -1.0    -2.318538 -0.351351    0.266667\n",
       "653 -0.857143  0.0    -0.438642  0.324324   -0.400000\n",
       "7    0.000000 -1.0    -0.146214  0.108108   -0.400000\n",
       "571  1.071429  0.5    -1.169713 -0.783784    0.600000\n",
       "171 -1.000000  0.5     0.135770  1.351351   -0.400000"
      ]
     },
     "execution_count": 29,
     "metadata": {},
     "output_type": "execute_result"
    }
   ],
   "source": [
    "X_test_quanti.head()"
   ]
  },
  {
   "cell_type": "code",
   "execution_count": 30,
   "metadata": {},
   "outputs": [],
   "source": [
    "### RECONSTITUTION DES FEATURES\n",
    "X_train = pd.concat([X_train_quanti, X_train_quali], axis=1)\n",
    "X_test = pd.concat([X_test_quanti, X_test_quali], axis=1)"
   ]
  },
  {
   "cell_type": "code",
   "execution_count": 31,
   "metadata": {},
   "outputs": [
    {
     "data": {
      "text/html": [
       "<div>\n",
       "<style scoped>\n",
       "    .dataframe tbody tr th:only-of-type {\n",
       "        vertical-align: middle;\n",
       "    }\n",
       "\n",
       "    .dataframe tbody tr th {\n",
       "        vertical-align: top;\n",
       "    }\n",
       "\n",
       "    .dataframe thead th {\n",
       "        text-align: right;\n",
       "    }\n",
       "</style>\n",
       "<table border=\"1\" class=\"dataframe\">\n",
       "  <thead>\n",
       "    <tr style=\"text-align: right;\">\n",
       "      <th></th>\n",
       "      <th>AGE</th>\n",
       "      <th>PAR</th>\n",
       "      <th>CHOLESTEROL</th>\n",
       "      <th>FCMAX</th>\n",
       "      <th>DEPRESSION</th>\n",
       "      <th>GAJ</th>\n",
       "      <th>SEXE_homme</th>\n",
       "      <th>TDT_AA</th>\n",
       "      <th>TDT_ASY</th>\n",
       "      <th>TDT_AT</th>\n",
       "      <th>TDT_DNA</th>\n",
       "      <th>ECG_LVH</th>\n",
       "      <th>ECG_Normal</th>\n",
       "      <th>ECG_ST</th>\n",
       "      <th>ANGINE_Oui</th>\n",
       "      <th>PENTE_Ascendant</th>\n",
       "      <th>PENTE_Descendant</th>\n",
       "      <th>PENTE_Plat</th>\n",
       "    </tr>\n",
       "  </thead>\n",
       "  <tbody>\n",
       "    <tr>\n",
       "      <th>132</th>\n",
       "      <td>0.142857</td>\n",
       "      <td>2.00</td>\n",
       "      <td>1.733681</td>\n",
       "      <td>-0.432432</td>\n",
       "      <td>0.933333</td>\n",
       "      <td>0</td>\n",
       "      <td>1.0</td>\n",
       "      <td>0.0</td>\n",
       "      <td>1.0</td>\n",
       "      <td>0.0</td>\n",
       "      <td>0.0</td>\n",
       "      <td>0.0</td>\n",
       "      <td>0.0</td>\n",
       "      <td>1.0</td>\n",
       "      <td>1.0</td>\n",
       "      <td>0.0</td>\n",
       "      <td>0.0</td>\n",
       "      <td>1.0</td>\n",
       "    </tr>\n",
       "    <tr>\n",
       "      <th>9</th>\n",
       "      <td>-0.428571</td>\n",
       "      <td>-0.50</td>\n",
       "      <td>0.647520</td>\n",
       "      <td>-0.486486</td>\n",
       "      <td>-0.400000</td>\n",
       "      <td>0</td>\n",
       "      <td>0.0</td>\n",
       "      <td>1.0</td>\n",
       "      <td>0.0</td>\n",
       "      <td>0.0</td>\n",
       "      <td>0.0</td>\n",
       "      <td>0.0</td>\n",
       "      <td>1.0</td>\n",
       "      <td>0.0</td>\n",
       "      <td>0.0</td>\n",
       "      <td>1.0</td>\n",
       "      <td>0.0</td>\n",
       "      <td>0.0</td>\n",
       "    </tr>\n",
       "    <tr>\n",
       "      <th>254</th>\n",
       "      <td>0.071429</td>\n",
       "      <td>0.75</td>\n",
       "      <td>0.271540</td>\n",
       "      <td>-1.135135</td>\n",
       "      <td>0.933333</td>\n",
       "      <td>0</td>\n",
       "      <td>1.0</td>\n",
       "      <td>0.0</td>\n",
       "      <td>1.0</td>\n",
       "      <td>0.0</td>\n",
       "      <td>0.0</td>\n",
       "      <td>0.0</td>\n",
       "      <td>1.0</td>\n",
       "      <td>0.0</td>\n",
       "      <td>1.0</td>\n",
       "      <td>0.0</td>\n",
       "      <td>0.0</td>\n",
       "      <td>1.0</td>\n",
       "    </tr>\n",
       "    <tr>\n",
       "      <th>787</th>\n",
       "      <td>0.928571</td>\n",
       "      <td>-1.50</td>\n",
       "      <td>0.804178</td>\n",
       "      <td>-0.351351</td>\n",
       "      <td>0.200000</td>\n",
       "      <td>0</td>\n",
       "      <td>1.0</td>\n",
       "      <td>0.0</td>\n",
       "      <td>1.0</td>\n",
       "      <td>0.0</td>\n",
       "      <td>0.0</td>\n",
       "      <td>1.0</td>\n",
       "      <td>0.0</td>\n",
       "      <td>0.0</td>\n",
       "      <td>1.0</td>\n",
       "      <td>0.0</td>\n",
       "      <td>0.0</td>\n",
       "      <td>1.0</td>\n",
       "    </tr>\n",
       "    <tr>\n",
       "      <th>82</th>\n",
       "      <td>0.642857</td>\n",
       "      <td>1.00</td>\n",
       "      <td>0.010444</td>\n",
       "      <td>-0.621622</td>\n",
       "      <td>-0.400000</td>\n",
       "      <td>0</td>\n",
       "      <td>1.0</td>\n",
       "      <td>0.0</td>\n",
       "      <td>1.0</td>\n",
       "      <td>0.0</td>\n",
       "      <td>0.0</td>\n",
       "      <td>0.0</td>\n",
       "      <td>1.0</td>\n",
       "      <td>0.0</td>\n",
       "      <td>0.0</td>\n",
       "      <td>0.0</td>\n",
       "      <td>0.0</td>\n",
       "      <td>1.0</td>\n",
       "    </tr>\n",
       "  </tbody>\n",
       "</table>\n",
       "</div>"
      ],
      "text/plain": [
       "          AGE   PAR  CHOLESTEROL     FCMAX  DEPRESSION  GAJ  SEXE_homme  \\\n",
       "132  0.142857  2.00     1.733681 -0.432432    0.933333    0         1.0   \n",
       "9   -0.428571 -0.50     0.647520 -0.486486   -0.400000    0         0.0   \n",
       "254  0.071429  0.75     0.271540 -1.135135    0.933333    0         1.0   \n",
       "787  0.928571 -1.50     0.804178 -0.351351    0.200000    0         1.0   \n",
       "82   0.642857  1.00     0.010444 -0.621622   -0.400000    0         1.0   \n",
       "\n",
       "     TDT_AA  TDT_ASY  TDT_AT  TDT_DNA  ECG_LVH  ECG_Normal  ECG_ST  \\\n",
       "132     0.0      1.0     0.0      0.0      0.0         0.0     1.0   \n",
       "9       1.0      0.0     0.0      0.0      0.0         1.0     0.0   \n",
       "254     0.0      1.0     0.0      0.0      0.0         1.0     0.0   \n",
       "787     0.0      1.0     0.0      0.0      1.0         0.0     0.0   \n",
       "82      0.0      1.0     0.0      0.0      0.0         1.0     0.0   \n",
       "\n",
       "     ANGINE_Oui  PENTE_Ascendant  PENTE_Descendant  PENTE_Plat  \n",
       "132         1.0              0.0               0.0         1.0  \n",
       "9           0.0              1.0               0.0         0.0  \n",
       "254         1.0              0.0               0.0         1.0  \n",
       "787         1.0              0.0               0.0         1.0  \n",
       "82          0.0              0.0               0.0         1.0  "
      ]
     },
     "execution_count": 31,
     "metadata": {},
     "output_type": "execute_result"
    }
   ],
   "source": [
    "X_train.head()"
   ]
  },
  {
   "cell_type": "code",
   "execution_count": 32,
   "metadata": {},
   "outputs": [
    {
     "data": {
      "text/html": [
       "<div>\n",
       "<style scoped>\n",
       "    .dataframe tbody tr th:only-of-type {\n",
       "        vertical-align: middle;\n",
       "    }\n",
       "\n",
       "    .dataframe tbody tr th {\n",
       "        vertical-align: top;\n",
       "    }\n",
       "\n",
       "    .dataframe thead th {\n",
       "        text-align: right;\n",
       "    }\n",
       "</style>\n",
       "<table border=\"1\" class=\"dataframe\">\n",
       "  <thead>\n",
       "    <tr style=\"text-align: right;\">\n",
       "      <th></th>\n",
       "      <th>AGE</th>\n",
       "      <th>PAR</th>\n",
       "      <th>CHOLESTEROL</th>\n",
       "      <th>FCMAX</th>\n",
       "      <th>DEPRESSION</th>\n",
       "      <th>GAJ</th>\n",
       "      <th>SEXE_homme</th>\n",
       "      <th>TDT_AA</th>\n",
       "      <th>TDT_ASY</th>\n",
       "      <th>TDT_AT</th>\n",
       "      <th>TDT_DNA</th>\n",
       "      <th>ECG_LVH</th>\n",
       "      <th>ECG_Normal</th>\n",
       "      <th>ECG_ST</th>\n",
       "      <th>ANGINE_Oui</th>\n",
       "      <th>PENTE_Ascendant</th>\n",
       "      <th>PENTE_Descendant</th>\n",
       "      <th>PENTE_Plat</th>\n",
       "    </tr>\n",
       "  </thead>\n",
       "  <tbody>\n",
       "    <tr>\n",
       "      <th>349</th>\n",
       "      <td>-1.285714</td>\n",
       "      <td>-1.0</td>\n",
       "      <td>-2.318538</td>\n",
       "      <td>-0.351351</td>\n",
       "      <td>0.266667</td>\n",
       "      <td>1</td>\n",
       "      <td>1.0</td>\n",
       "      <td>0.0</td>\n",
       "      <td>1.0</td>\n",
       "      <td>0.0</td>\n",
       "      <td>0.0</td>\n",
       "      <td>0.0</td>\n",
       "      <td>1.0</td>\n",
       "      <td>0.0</td>\n",
       "      <td>1.0</td>\n",
       "      <td>0.0</td>\n",
       "      <td>0.0</td>\n",
       "      <td>1.0</td>\n",
       "    </tr>\n",
       "    <tr>\n",
       "      <th>653</th>\n",
       "      <td>-0.857143</td>\n",
       "      <td>0.0</td>\n",
       "      <td>-0.438642</td>\n",
       "      <td>0.324324</td>\n",
       "      <td>-0.400000</td>\n",
       "      <td>0</td>\n",
       "      <td>1.0</td>\n",
       "      <td>0.0</td>\n",
       "      <td>0.0</td>\n",
       "      <td>0.0</td>\n",
       "      <td>1.0</td>\n",
       "      <td>0.0</td>\n",
       "      <td>1.0</td>\n",
       "      <td>0.0</td>\n",
       "      <td>0.0</td>\n",
       "      <td>1.0</td>\n",
       "      <td>0.0</td>\n",
       "      <td>0.0</td>\n",
       "    </tr>\n",
       "    <tr>\n",
       "      <th>7</th>\n",
       "      <td>0.000000</td>\n",
       "      <td>-1.0</td>\n",
       "      <td>-0.146214</td>\n",
       "      <td>0.108108</td>\n",
       "      <td>-0.400000</td>\n",
       "      <td>0</td>\n",
       "      <td>1.0</td>\n",
       "      <td>1.0</td>\n",
       "      <td>0.0</td>\n",
       "      <td>0.0</td>\n",
       "      <td>0.0</td>\n",
       "      <td>0.0</td>\n",
       "      <td>1.0</td>\n",
       "      <td>0.0</td>\n",
       "      <td>0.0</td>\n",
       "      <td>1.0</td>\n",
       "      <td>0.0</td>\n",
       "      <td>0.0</td>\n",
       "    </tr>\n",
       "    <tr>\n",
       "      <th>571</th>\n",
       "      <td>1.071429</td>\n",
       "      <td>0.5</td>\n",
       "      <td>-1.169713</td>\n",
       "      <td>-0.783784</td>\n",
       "      <td>0.600000</td>\n",
       "      <td>1</td>\n",
       "      <td>1.0</td>\n",
       "      <td>0.0</td>\n",
       "      <td>1.0</td>\n",
       "      <td>0.0</td>\n",
       "      <td>0.0</td>\n",
       "      <td>0.0</td>\n",
       "      <td>1.0</td>\n",
       "      <td>0.0</td>\n",
       "      <td>1.0</td>\n",
       "      <td>0.0</td>\n",
       "      <td>0.0</td>\n",
       "      <td>1.0</td>\n",
       "    </tr>\n",
       "    <tr>\n",
       "      <th>171</th>\n",
       "      <td>-1.000000</td>\n",
       "      <td>0.5</td>\n",
       "      <td>0.135770</td>\n",
       "      <td>1.351351</td>\n",
       "      <td>-0.400000</td>\n",
       "      <td>0</td>\n",
       "      <td>1.0</td>\n",
       "      <td>0.0</td>\n",
       "      <td>0.0</td>\n",
       "      <td>0.0</td>\n",
       "      <td>1.0</td>\n",
       "      <td>0.0</td>\n",
       "      <td>1.0</td>\n",
       "      <td>0.0</td>\n",
       "      <td>0.0</td>\n",
       "      <td>1.0</td>\n",
       "      <td>0.0</td>\n",
       "      <td>0.0</td>\n",
       "    </tr>\n",
       "  </tbody>\n",
       "</table>\n",
       "</div>"
      ],
      "text/plain": [
       "          AGE  PAR  CHOLESTEROL     FCMAX  DEPRESSION  GAJ  SEXE_homme  \\\n",
       "349 -1.285714 -1.0    -2.318538 -0.351351    0.266667    1         1.0   \n",
       "653 -0.857143  0.0    -0.438642  0.324324   -0.400000    0         1.0   \n",
       "7    0.000000 -1.0    -0.146214  0.108108   -0.400000    0         1.0   \n",
       "571  1.071429  0.5    -1.169713 -0.783784    0.600000    1         1.0   \n",
       "171 -1.000000  0.5     0.135770  1.351351   -0.400000    0         1.0   \n",
       "\n",
       "     TDT_AA  TDT_ASY  TDT_AT  TDT_DNA  ECG_LVH  ECG_Normal  ECG_ST  \\\n",
       "349     0.0      1.0     0.0      0.0      0.0         1.0     0.0   \n",
       "653     0.0      0.0     0.0      1.0      0.0         1.0     0.0   \n",
       "7       1.0      0.0     0.0      0.0      0.0         1.0     0.0   \n",
       "571     0.0      1.0     0.0      0.0      0.0         1.0     0.0   \n",
       "171     0.0      0.0     0.0      1.0      0.0         1.0     0.0   \n",
       "\n",
       "     ANGINE_Oui  PENTE_Ascendant  PENTE_Descendant  PENTE_Plat  \n",
       "349         1.0              0.0               0.0         1.0  \n",
       "653         0.0              1.0               0.0         0.0  \n",
       "7           0.0              1.0               0.0         0.0  \n",
       "571         1.0              0.0               0.0         1.0  \n",
       "171         0.0              1.0               0.0         0.0  "
      ]
     },
     "execution_count": 32,
     "metadata": {},
     "output_type": "execute_result"
    }
   ],
   "source": [
    "X_test.head()"
   ]
  },
  {
   "cell_type": "markdown",
   "metadata": {},
   "source": [
    "### MODELISATION"
   ]
  },
  {
   "cell_type": "code",
   "execution_count": 33,
   "metadata": {},
   "outputs": [],
   "source": [
    "# Les différents estimateurs\n",
    "model_1 = KNeighborsClassifier()\n",
    "model_2 = SVC(kernel='linear')\n",
    "model_3 = LogisticRegression(solver='liblinear', random_state=0)\n",
    "model_4 = RandomForestClassifier(random_state=0)"
   ]
  },
  {
   "cell_type": "code",
   "execution_count": 34,
   "metadata": {},
   "outputs": [
    {
     "data": {
      "text/plain": [
       "<Figure size 1080x576 with 0 Axes>"
      ]
     },
     "metadata": {},
     "output_type": "display_data"
    }
   ],
   "source": [
    "# Courbe d'apprentissage\n",
    "plt.figure(figsize=(15,8))\n",
    "def courbe_apprentissage(model,X_train, y_train):\n",
    "    N, train_score, val_score = learning_curve(model, X_train, y_train,train_sizes=np.linspace(0.1,1.0,10), cv=5)\n",
    "    plt.figure(figsize=(15,8))\n",
    "    plt.plot(N, train_score.mean(axis=1), label='train')\n",
    "    plt.plot(N, val_score.mean(axis=1), label='validation')\n",
    "    plt.xlabel('train_size')\n",
    "    plt.legend()\n",
    "    plt.show()"
   ]
  },
  {
   "cell_type": "code",
   "execution_count": 35,
   "metadata": {
    "scrolled": false
   },
   "outputs": [
    {
     "name": "stdout",
     "output_type": "stream",
     "text": [
      "KNeighborsClassifier\n",
      "Score à l'entrainement : 0.9003115264797508\n",
      "Score au test : 0.8731884057971014\n",
      "[[ 97  23]\n",
      " [ 12 144]]\n",
      "              precision    recall  f1-score   support\n",
      "\n",
      "           0       0.89      0.81      0.85       120\n",
      "           1       0.86      0.92      0.89       156\n",
      "\n",
      "    accuracy                           0.87       276\n",
      "   macro avg       0.88      0.87      0.87       276\n",
      "weighted avg       0.87      0.87      0.87       276\n",
      "\n"
     ]
    },
    {
     "data": {
      "image/png": "[encoded data removed]",
      "text/plain": [
       "<Figure size 1080x576 with 1 Axes>"
      ]
     },
     "metadata": {
      "needs_background": "light"
     },
     "output_type": "display_data"
    },
    {
     "name": "stdout",
     "output_type": "stream",
     "text": [
      "========================================================================================================================\n",
      "SVC\n",
      "Score à l'entrainement : 0.8753894080996885\n",
      "Score au test : 0.8586956521739131\n",
      "[[ 97  23]\n",
      " [ 16 140]]\n",
      "              precision    recall  f1-score   support\n",
      "\n",
      "           0       0.86      0.81      0.83       120\n",
      "           1       0.86      0.90      0.88       156\n",
      "\n",
      "    accuracy                           0.86       276\n",
      "   macro avg       0.86      0.85      0.86       276\n",
      "weighted avg       0.86      0.86      0.86       276\n",
      "\n"
     ]
    },
    {
     "data": {
      "image/png": "[encoded data removed]",
      "text/plain": [
       "<Figure size 1080x576 with 1 Axes>"
      ]
     },
     "metadata": {
      "needs_background": "light"
     },
     "output_type": "display_data"
    },
    {
     "name": "stdout",
     "output_type": "stream",
     "text": [
      "========================================================================================================================\n",
      "LogisticRegression\n",
      "Score à l'entrainement : 0.8660436137071651\n",
      "Score au test : 0.8659420289855072\n",
      "[[ 97  23]\n",
      " [ 14 142]]\n",
      "              precision    recall  f1-score   support\n",
      "\n",
      "           0       0.87      0.81      0.84       120\n",
      "           1       0.86      0.91      0.88       156\n",
      "\n",
      "    accuracy                           0.87       276\n",
      "   macro avg       0.87      0.86      0.86       276\n",
      "weighted avg       0.87      0.87      0.87       276\n",
      "\n"
     ]
    },
    {
     "data": {
      "image/png": "[encoded data removed]",
      "text/plain": [
       "<Figure size 1080x576 with 1 Axes>"
      ]
     },
     "metadata": {
      "needs_background": "light"
     },
     "output_type": "display_data"
    },
    {
     "name": "stdout",
     "output_type": "stream",
     "text": [
      "========================================================================================================================\n",
      "RandomForestClassifier\n",
      "Score à l'entrainement : 1.0\n",
      "Score au test : 0.8731884057971014\n",
      "[[ 95  25]\n",
      " [ 10 146]]\n",
      "              precision    recall  f1-score   support\n",
      "\n",
      "           0       0.90      0.79      0.84       120\n",
      "           1       0.85      0.94      0.89       156\n",
      "\n",
      "    accuracy                           0.87       276\n",
      "   macro avg       0.88      0.86      0.87       276\n",
      "weighted avg       0.88      0.87      0.87       276\n",
      "\n"
     ]
    },
    {
     "data": {
      "image/png": "[encoded data removed]",
      "text/plain": [
       "<Figure size 1080x576 with 1 Axes>"
      ]
     },
     "metadata": {
      "needs_background": "light"
     },
     "output_type": "display_data"
    },
    {
     "name": "stdout",
     "output_type": "stream",
     "text": [
      "========================================================================================================================\n"
     ]
    }
   ],
   "source": [
    "# entrainement de chaque modèle et performance de chaque modèle\n",
    "for model in (model_1, model_2,  model_3, model_4):\n",
    "    model.fit(X_train, y_train)\n",
    "    print(model.__class__.__name__)\n",
    "    print(f\"Score à l'entrainement : {model.score(X_train, y_train)}\")\n",
    "    print(f\"Score au test : {model.score(X_test, y_test)}\")\n",
    "    \n",
    "    y_pred=model.predict(X_test)\n",
    "    print(confusion_matrix(y_test, y_pred))\n",
    "    print(classification_report(y_test,y_pred))\n",
    "    courbe_apprentissage(model, X_train, y_train)\n",
    "    print(120*'=')"
   ]
  },
  {
   "cell_type": "markdown",
   "metadata": {},
   "source": [
    "- L'objectif du projet est de prédire la présence ou l'absence de maladie cardiaque chez les patients de notre jeu de données afin de les fournir un traitement adéquat. \n",
    "\n",
    "- Il nous faut donc minimiser les faux négatifs (FN), les patients qui présentent des maladies cardiaques et que le modèle à prédire qu'elles sont saine. \n",
    "\n",
    "- La métrique à observé le plus ici est la sensibilité.\n",
    "\n",
    "-----------------------------------------------------------------------------------------------------------------------\n",
    "\n",
    "- Classement des modèles par rapport aux scores et à la sensibilté :\n",
    "   - RandomForestClassifier : Score à l'entrainemment : 100%; Score test : 87.31%; Sensibilité = 94%.\n",
    "   - Modèle Régression logistique : score test et entrainement d'environ 87%; Sensibilité = 91%.\n",
    "   - Modèle KNN : score test : 87.31%, entrainement: 90%; Sensibilité = 92%.\n",
    "   - SVC : score test : 86% , entrainement d'environ 87%; Sensibilité = 90%.\n",
    "   \n",
    "- Pour cette première modélisation, l'estimateur RandomForestClassifier obtient une sensibilité plus élevée mais semble etre en surapprentissage.\n",
    "\n",
    "- L'estimateur qui le suit dans le classement est KNN qui obtient une meilleur sensibilité que les autres, de plus, en visualisant la courbe d'apprentissage, nous pouvons estimer que le modèle est stable.\n",
    "\n",
    "- Essayons de faire une sélection de variables avec le modèle KNN et le modèle de régression logistique en vue d'améliorer nos scores."
   ]
  },
  {
   "cell_type": "markdown",
   "metadata": {},
   "source": [
    "### FEATURE SELECTION"
   ]
  },
  {
   "cell_type": "code",
   "execution_count": 36,
   "metadata": {},
   "outputs": [],
   "source": [
    "def evaluation(model, X_train, y_train, X_test, y_test):\n",
    "    model.fit(X_train, y_train)\n",
    "    print(model.__class__.__name__)\n",
    "    print(f\"Score à l'entrainement : {model.score(X_train, y_train)}\")\n",
    "    print(f\"Score au test : {model.score(X_test, y_test)}\")\n",
    "    y_pred=model.predict(X_test)\n",
    "    print(confusion_matrix(y_test, y_pred))\n",
    "    print(classification_report(y_test,y_pred))\n",
    "    courbe_apprentissage(model, X_train, y_train)"
   ]
  },
  {
   "cell_type": "code",
   "execution_count": 43,
   "metadata": {},
   "outputs": [],
   "source": [
    "def feature_selection(model, X_train, X_test):\n",
    "    \n",
    "    ## UTILISATION DE LA SELECTION DE FEATURES DE FACON RECURSIVE\n",
    "    selector = RFECV(model, step=1, min_features_to_select=1, cv=5)\n",
    "    selector.fit(X_train, y_train)\n",
    "    \n",
    "    ## Affichage des rangs et des scores\n",
    "    print(\"Rang des variables : \")\n",
    "    print(selector.ranking_)\n",
    "    print(\"\")\n",
    "    \n",
    "    print(\"Scores du model : \")\n",
    "    print(selector.grid_scores_)\n",
    "    print(\"\")\n",
    "    \n",
    "    ## SELECTION DE COLONNES\n",
    "    colonne_selectioner = np.array(X_train.columns)[selector.get_support()]\n",
    "    print(\"Les colonnes sélectionnées : \")\n",
    "    print(colonne_selectioner)\n",
    "    print(\"\")\n",
    "    \n",
    "    ## RECONSTITUTION DE MON DATASET AVEC LES COLONNES SELECTIONNEES\n",
    "    X_train_review, X_test_review = X_train[colonne_selectioner], X_test[colonne_selectioner]\n",
    "    \n",
    "    return X_train_review, X_test_review"
   ]
  },
  {
   "cell_type": "code",
   "execution_count": 44,
   "metadata": {
    "scrolled": false
   },
   "outputs": [
    {
     "name": "stdout",
     "output_type": "stream",
     "text": [
      "Rang des variables : \n",
      "[ 7 11  1 10  1  1  1  3  1  4  2  9  8  5  1  1  6  1]\n",
      "\n",
      "Scores du model : \n",
      "[0.81157946 0.80532946 0.80064196 0.81929506 0.84731105 0.85356105\n",
      " 0.83793605 0.87068798 0.86602471 0.8675751  0.8691376  0.86600048\n",
      " 0.86912548 0.8675751  0.86912548 0.86912548 0.87068798 0.87068798]\n",
      "\n",
      "Les colonnes sélectionnées : \n",
      "['CHOLESTEROL' 'DEPRESSION' 'GAJ' 'SEXE_homme' 'TDT_ASY' 'ANGINE_Oui'\n",
      " 'PENTE_Ascendant' 'PENTE_Plat']\n",
      "\n",
      "SVC\n",
      "Score à l'entrainement : 0.867601246105919\n",
      "Score au test : 0.8623188405797102\n",
      "[[ 98  22]\n",
      " [ 16 140]]\n",
      "              precision    recall  f1-score   support\n",
      "\n",
      "           0       0.86      0.82      0.84       120\n",
      "           1       0.86      0.90      0.88       156\n",
      "\n",
      "    accuracy                           0.86       276\n",
      "   macro avg       0.86      0.86      0.86       276\n",
      "weighted avg       0.86      0.86      0.86       276\n",
      "\n"
     ]
    },
    {
     "data": {
      "image/png": "[encoded data removed]",
      "text/plain": [
       "<Figure size 1080x576 with 1 Axes>"
      ]
     },
     "metadata": {
      "needs_background": "light"
     },
     "output_type": "display_data"
    },
    {
     "name": "stdout",
     "output_type": "stream",
     "text": [
      "Rang des variables : \n",
      "[1 4 1 1 1 1 1 1 1 1 1 3 2 1 1 1 1 1]\n",
      "\n",
      "Scores du model : \n",
      "[0.81157946 0.81157946 0.81618217 0.84419816 0.85972626 0.85818798\n",
      " 0.85662548 0.85661337 0.84887355 0.85506298 0.8566376  0.8628876\n",
      " 0.86443798 0.86600048 0.86756298 0.86755087 0.86600048 0.86287548]\n",
      "\n",
      "Les colonnes sélectionnées : \n",
      "['AGE' 'CHOLESTEROL' 'FCMAX' 'DEPRESSION' 'GAJ' 'SEXE_homme' 'TDT_AA'\n",
      " 'TDT_ASY' 'TDT_AT' 'TDT_DNA' 'ECG_ST' 'ANGINE_Oui' 'PENTE_Ascendant'\n",
      " 'PENTE_Descendant' 'PENTE_Plat']\n",
      "\n",
      "LogisticRegression\n",
      "Score à l'entrainement : 0.8644859813084113\n",
      "Score au test : 0.8623188405797102\n",
      "[[ 97  23]\n",
      " [ 15 141]]\n",
      "              precision    recall  f1-score   support\n",
      "\n",
      "           0       0.87      0.81      0.84       120\n",
      "           1       0.86      0.90      0.88       156\n",
      "\n",
      "    accuracy                           0.86       276\n",
      "   macro avg       0.86      0.86      0.86       276\n",
      "weighted avg       0.86      0.86      0.86       276\n",
      "\n"
     ]
    },
    {
     "data": {
      "image/png": "[encoded data removed]",
      "text/plain": [
       "<Figure size 1080x576 with 1 Axes>"
      ]
     },
     "metadata": {
      "needs_background": "light"
     },
     "output_type": "display_data"
    }
   ],
   "source": [
    "for model in (model_2, model_3):\n",
    "    X_train_review, X_test_review = feature_selection(model, X_train, X_test)\n",
    "    evaluation(model, X_train_review, y_train, X_test_review, y_test)"
   ]
  },
  {
   "cell_type": "markdown",
   "metadata": {},
   "source": [
    "- J'ai essayé à cette partie de faire de la FEATURESELECTION sur le modèle qui présente le plus d'efficacité, mais cela n'a pas marché. Selon le site : https://stackoverflow.com/questions/37780139/knn-with-rfecv-returns-the-classifier-does-not-expose-coef-or-feature-impo, \"knn ne fournit pas de logique pour faire la sélection des fonctionnalités. Vous ne pouvez pas l’utiliser (l’implémentation de sklearn) pour atteindre cet objectif, sauf si vous définissez votre propre mesure de l’importance des fonctionnalités pour KNN\". Selon une autre source (https://mrmint.fr/introduction-k-nearest-neighbors), \"En effet,  K-NN n’a pas besoin de construire un modèle prédictif. Ainsi, pour K-NN il n’existe pas de phase d’apprentissage proprement dite. C’est pour cela qu’on le catégorise parfois dans le Lazy Learning. Pour pouvoir effectuer une prédiction, K-NN se base sur le jeu de données pour produire un résultat.\", je me suis ainsi dire n'est ce pas pour ces raisons que l'erreur.\n",
    "\n",
    "- Quant aux deux modèles précédemment, le semble est à peu près les memes avant et après sélection de variables. En visualisant la courbe d'apprentissage de SVC, l'évolution du score d'entrainement n'est pas proportionnelle aux scores de test.\n"
   ]
  },
  {
   "cell_type": "markdown",
   "metadata": {},
   "source": [
    "### OPTIMISATION PARAMETRES -- MODELE KNN"
   ]
  },
  {
   "cell_type": "code",
   "execution_count": 50,
   "metadata": {},
   "outputs": [],
   "source": [
    "param_grid = {\n",
    "    'n_neighbors': np.arange(1, 100)\n",
    "}\n",
    "\n",
    "grid = GridSearchCV(model_1, param_grid, cv=5)"
   ]
  },
  {
   "cell_type": "code",
   "execution_count": 51,
   "metadata": {},
   "outputs": [
    {
     "data": {
      "text/plain": [
       "GridSearchCV(cv=5, estimator=KNeighborsClassifier(),\n",
       "             param_grid={'n_neighbors': array([ 1,  2,  3,  4,  5,  6,  7,  8,  9, 10, 11, 12, 13, 14, 15, 16, 17,\n",
       "       18, 19, 20, 21, 22, 23, 24, 25, 26, 27, 28, 29, 30, 31, 32, 33, 34,\n",
       "       35, 36, 37, 38, 39, 40, 41, 42, 43, 44, 45, 46, 47, 48, 49, 50, 51,\n",
       "       52, 53, 54, 55, 56, 57, 58, 59, 60, 61, 62, 63, 64, 65, 66, 67, 68,\n",
       "       69, 70, 71, 72, 73, 74, 75, 76, 77, 78, 79, 80, 81, 82, 83, 84, 85,\n",
       "       86, 87, 88, 89, 90, 91, 92, 93, 94, 95, 96, 97, 98, 99])})"
      ]
     },
     "execution_count": 51,
     "metadata": {},
     "output_type": "execute_result"
    }
   ],
   "source": [
    "# Entrainement de notre grille sur les données d'entrainements\n",
    "grid.fit(X_train,y_train)"
   ]
  },
  {
   "cell_type": "code",
   "execution_count": 52,
   "metadata": {},
   "outputs": [
    {
     "data": {
      "text/plain": [
       "0.8753754844961239"
      ]
     },
     "execution_count": 52,
     "metadata": {},
     "output_type": "execute_result"
    }
   ],
   "source": [
    "# Le meilleur score \n",
    "grid.best_score_"
   ]
  },
  {
   "cell_type": "code",
   "execution_count": 53,
   "metadata": {},
   "outputs": [
    {
     "data": {
      "text/plain": [
       "{'n_neighbors': 20}"
      ]
     },
     "execution_count": 53,
     "metadata": {},
     "output_type": "execute_result"
    }
   ],
   "source": [
    "# Meilleur paramètre\n",
    "grid.best_params_"
   ]
  },
  {
   "cell_type": "code",
   "execution_count": 54,
   "metadata": {},
   "outputs": [],
   "source": [
    "# Souvegarde du modèle\n",
    "model_valid=grid.best_estimator_"
   ]
  },
  {
   "cell_type": "code",
   "execution_count": 55,
   "metadata": {},
   "outputs": [
    {
     "name": "stdout",
     "output_type": "stream",
     "text": [
      "KNeighborsClassifier\n",
      "Score à l'entrainement : 0.8785046728971962\n",
      "Score au test : 0.8768115942028986\n",
      "[[100  20]\n",
      " [ 14 142]]\n",
      "              precision    recall  f1-score   support\n",
      "\n",
      "           0       0.88      0.83      0.85       120\n",
      "           1       0.88      0.91      0.89       156\n",
      "\n",
      "    accuracy                           0.88       276\n",
      "   macro avg       0.88      0.87      0.87       276\n",
      "weighted avg       0.88      0.88      0.88       276\n",
      "\n"
     ]
    },
    {
     "data": {
      "image/png": "[encoded data removed]",
      "text/plain": [
       "<Figure size 1080x576 with 1 Axes>"
      ]
     },
     "metadata": {
      "needs_background": "light"
     },
     "output_type": "display_data"
    }
   ],
   "source": [
    "evaluation(model_valid, X_train, y_train, X_test, y_test)"
   ]
  },
  {
   "cell_type": "markdown",
   "metadata": {},
   "source": []
  },
  {
   "cell_type": "markdown",
   "metadata": {},
   "source": [
    "### OPTIMISATION PARAMETRES MODEL SVC"
   ]
  },
  {
   "cell_type": "code",
   "execution_count": 78,
   "metadata": {},
   "outputs": [],
   "source": [
    "param_grid2 = {\n",
    "    'C': [0.1, 1, 10, 100, 1000],\n",
    "    'gamma' : [0.1, 1, 10, 100]\n",
    "\n",
    "}\n",
    "\n",
    "grid2 = GridSearchCV(SVC(), param_grid2, cv=5)"
   ]
  },
  {
   "cell_type": "code",
   "execution_count": 79,
   "metadata": {},
   "outputs": [
    {
     "data": {
      "text/plain": [
       "GridSearchCV(cv=5, estimator=SVC(),\n",
       "             param_grid={'C': [0.1, 1, 10, 100, 1000],\n",
       "                         'gamma': [0.1, 1, 10, 100]})"
      ]
     },
     "execution_count": 79,
     "metadata": {},
     "output_type": "execute_result"
    }
   ],
   "source": [
    "grid2.fit(X_train,y_train)"
   ]
  },
  {
   "cell_type": "code",
   "execution_count": 80,
   "metadata": {},
   "outputs": [
    {
     "data": {
      "text/plain": [
       "0.8738250968992247"
      ]
     },
     "execution_count": 80,
     "metadata": {},
     "output_type": "execute_result"
    }
   ],
   "source": [
    "# Le meilleur score \n",
    "grid2.best_score_"
   ]
  },
  {
   "cell_type": "code",
   "execution_count": 81,
   "metadata": {},
   "outputs": [
    {
     "data": {
      "text/plain": [
       "{'C': 1, 'gamma': 0.1}"
      ]
     },
     "execution_count": 81,
     "metadata": {},
     "output_type": "execute_result"
    }
   ],
   "source": [
    "# Meilleur paramètre\n",
    "grid2.best_params_"
   ]
  },
  {
   "cell_type": "code",
   "execution_count": 82,
   "metadata": {},
   "outputs": [],
   "source": [
    "# Souvegarde du modèle\n",
    "modelopt_SVC=grid2.best_estimator_"
   ]
  },
  {
   "cell_type": "code",
   "execution_count": 83,
   "metadata": {},
   "outputs": [
    {
     "name": "stdout",
     "output_type": "stream",
     "text": [
      "SVC\n",
      "Score à l'entrainement : 0.897196261682243\n",
      "Score au test : 0.8804347826086957\n",
      "[[ 97  23]\n",
      " [ 10 146]]\n",
      "              precision    recall  f1-score   support\n",
      "\n",
      "           0       0.91      0.81      0.85       120\n",
      "           1       0.86      0.94      0.90       156\n",
      "\n",
      "    accuracy                           0.88       276\n",
      "   macro avg       0.89      0.87      0.88       276\n",
      "weighted avg       0.88      0.88      0.88       276\n",
      "\n"
     ]
    },
    {
     "data": {
      "image/png": "[encoded data removed]",
      "text/plain": [
       "<Figure size 1080x576 with 1 Axes>"
      ]
     },
     "metadata": {
      "needs_background": "light"
     },
     "output_type": "display_data"
    }
   ],
   "source": [
    "evaluation(modelopt_SVC, X_train, y_train, X_test, y_test)"
   ]
  },
  {
   "cell_type": "markdown",
   "metadata": {},
   "source": [
    "- Le modèle SVC s'améliore et obtient un score de 88% et une précision qui a aussi augmentée de 4%."
   ]
  },
  {
   "cell_type": "code",
   "execution_count": null,
   "metadata": {},
   "outputs": [],
   "source": []
  }
 ],
 "metadata": {
  "kernelspec": {
   "display_name": "Python 3",
   "language": "python",
   "name": "python3"
  },
  "language_info": {
   "codemirror_mode": {
    "name": "ipython",
    "version": 3
   },
   "file_extension": ".py",
   "mimetype": "text/x-python",
   "name": "python",
   "nbconvert_exporter": "python",
   "pygments_lexer": "ipython3",
   "version": "3.8.5"
  }
 },
 "nbformat": 4,
 "nbformat_minor": 4
}
